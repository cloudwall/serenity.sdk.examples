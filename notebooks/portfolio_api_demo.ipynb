{
 "cells": [
  {
   "attachments": {},
   "cell_type": "markdown",
   "id": "611c0e34-6774-43d8-8cb2-c6392eae95f6",
   "metadata": {},
   "source": [
    "# Demo: Serenity Portfolio Storage API\n",
    "\n",
    "This notebook demonstrates how to use the Portfolio Storage API to manage your portfolio details."
   ]
  },
  {
   "cell_type": "code",
   "execution_count": null,
   "id": "b5ec6a17-9178-4e67-b6cc-43585d61cba4",
   "metadata": {},
   "outputs": [],
   "source": [
    "%%capture --no-stderr --no-display\n",
    "%load_ext autoreload\n",
    "%autoreload 2"
   ]
  },
  {
   "cell_type": "code",
   "execution_count": null,
   "id": "74172c3d",
   "metadata": {},
   "outputs": [],
   "source": [
    "from os import getenv\n",
    "from serenity_sdk.widgets import ConnectWidget\n",
    "\n",
    "# if you want to auto-connect, set this environment variable to your desired default\n",
    "connect_widget = ConnectWidget(getenv('SERENITY_CONFIG_ID', None))"
   ]
  },
  {
   "cell_type": "code",
   "execution_count": null,
   "id": "d4795650",
   "metadata": {},
   "outputs": [],
   "source": [
    "import datetime\n",
    "\n",
    "import pandas as pd\n",
    "\n",
    "# create an alias to the api\n",
    "api = connect_widget.get_api()"
   ]
  },
  {
   "attachments": {},
   "cell_type": "markdown",
   "id": "aca0c44b",
   "metadata": {},
   "source": [
    "## Create a Portfolio Metadata\n",
    "A Portfolio Metadata stores common metadata for portfolios."
   ]
  },
  {
   "attachments": {},
   "cell_type": "markdown",
   "id": "8f71a858",
   "metadata": {},
   "source": [
    "First retrieve the UUID for USD currency that we'll use as the base currency for the Portfolios"
   ]
  },
  {
   "cell_type": "code",
   "execution_count": null,
   "id": "dcf353fb",
   "metadata": {},
   "outputs": [],
   "source": [
    "usd_currency = api.refdata().get_currency(\"USD\")\n",
    "# Print the output as table\n",
    "pd.json_normalize(usd_currency.dict())"
   ]
  },
  {
   "cell_type": "code",
   "execution_count": null,
   "id": "4bbdbc66",
   "metadata": {},
   "outputs": [],
   "source": [
    "from serenity_types.portfolio.core import PortfolioMetadataCreateRequest, Strategy, StrategyType\n",
    "\n",
    "create_request = PortfolioMetadataCreateRequest(\n",
    "    base_currency_id=usd_currency.asset_id,\n",
    "    name=\"Python SDK Demo Portfolio v1\",\n",
    "    owner=\"Python SDK\",\n",
    "    strategy=Strategy(\n",
    "        strategy_type=StrategyType.MARKET_NEUTRAL,\n",
    "        description=\"Demo Portfolio Market Neutral Strategy\"),\n",
    "    updated_by=\"Python SDK\",\n",
    "    tags=[\"demo\", \"sdk\"]\n",
    ")\n",
    "metadata = api.portfolio().create_portfolio_metadata(create_request)\n",
    "# Print the output as table\n",
    "pd.json_normalize(metadata.dict())"
   ]
  },
  {
   "attachments": {},
   "cell_type": "markdown",
   "id": "d9bd8b11",
   "metadata": {},
   "source": [
    "## List all Portfolio Metadata"
   ]
  },
  {
   "cell_type": "code",
   "execution_count": null,
   "id": "1f645e52",
   "metadata": {},
   "outputs": [],
   "source": [
    "\n",
    "metadata_list = api.portfolio().list_portfolio_metadata()\n",
    "# Print the output as table\n",
    "pd.json_normalize((metadata.dict() for metadata in metadata_list))"
   ]
  },
  {
   "attachments": {},
   "cell_type": "markdown",
   "id": "28b7119a",
   "metadata": {},
   "source": [
    "Or retrieve the Portfolio metadata with the known metadata id"
   ]
  },
  {
   "cell_type": "code",
   "execution_count": null,
   "id": "2ab21c0f",
   "metadata": {},
   "outputs": [],
   "source": [
    "metadata_id = metadata.metadata_id\n",
    "metadata = api.portfolio().get_portfolio_metadata(metadata_id)\n",
    "# Print the output as table\n",
    "pd.json_normalize([metadata.dict()])"
   ]
  },
  {
   "attachments": {},
   "cell_type": "markdown",
   "id": "ba76d35d",
   "metadata": {},
   "source": [
    "## Update an existing Portfolio Metadata"
   ]
  },
  {
   "cell_type": "code",
   "execution_count": null,
   "id": "445dd111-8c99-45d9-ae3b-2965b757c825",
   "metadata": {},
   "outputs": [],
   "source": [
    "\n",
    "from serenity_types.portfolio.core import PortfolioMetadataUpdateRequest\n",
    "\n",
    "update_request = PortfolioMetadataUpdateRequest(\n",
    "    base_currency_id=usd_currency.asset_id,\n",
    "    name=\"Python SDK Update Demo Portfolio v1\",\n",
    "    owner=\"Python SDK\",\n",
    "    strategy=Strategy(\n",
    "        strategy_type=StrategyType.EVENT_DRIVEN,\n",
    "        description=\"Demo Portfolio Event Driven Strategy\"),\n",
    "    updated_by=\"Python SDK\",\n",
    "    tags=[\"demo\", \"sdk\"]\n",
    ")\n",
    "metadata = api.portfolio().update_portfolio_metadata(metadata.metadata_id, update_request)\n",
    "# Print the output as table\n",
    "pd.json_normalize([metadata.dict()])"
   ]
  },
  {
   "attachments": {},
   "cell_type": "markdown",
   "id": "3c8d5114",
   "metadata": {},
   "source": [
    "## Create Portfolio Snapshot\n",
    "A Portfolio Snapshot provides a snapshot of the portfolio's positions at a particular moment in time"
   ]
  },
  {
   "attachments": {},
   "cell_type": "markdown",
   "id": "4654bd2c",
   "metadata": {},
   "source": [
    "First retrieve the UUIDs of the base assets (BTC and ETH)"
   ]
  },
  {
   "cell_type": "code",
   "execution_count": null,
   "id": "4281f528",
   "metadata": {},
   "outputs": [],
   "source": [
    "tokens = api.refdata().get_tokens([\"BTC\", \"ETH\"])\n",
    "btc_token = tokens['BTC']\n",
    "eth_token = tokens['ETH']\n",
    "# Print the output as table\n",
    "pd.json_normalize([btc_token.dict(), eth_token.dict()])"
   ]
  },
  {
   "attachments": {},
   "cell_type": "markdown",
   "id": "417934ea",
   "metadata": {},
   "source": [
    "Retrieve the UUIDs for Future with BTC and ETH as the underlier"
   ]
  },
  {
   "cell_type": "code",
   "execution_count": null,
   "id": "f9ff161c",
   "metadata": {},
   "outputs": [],
   "source": [
    "from serenity_types.refdata.asset import AssetSearchRequest, AssetType\n",
    "\n",
    "derivatives_search_request = AssetSearchRequest(\n",
    "    asset_types=[AssetType.FUTURE],\n",
    "    underlier_assets=[btc_token.asset_id, eth_token.asset_id])\n",
    "\n",
    "tokens = api.refdata().search_assets(derivatives_search_request)\n",
    "\n",
    "df = pd.DataFrame((asset.dict() for asset in tokens))\n",
    "btc_future = tokens[df.query(\"native_symbol.str.contains('BTC')\").index[0]]\n",
    "eth_future = tokens[df.query(\"native_symbol.str.contains('ETH')\").index[0]]\n",
    "# Print the output as table\n",
    "pd.json_normalize([btc_future.dict(), eth_future.dict()])"
   ]
  },
  {
   "cell_type": "code",
   "execution_count": null,
   "id": "ca8ea893",
   "metadata": {},
   "outputs": [],
   "source": [
    "import random\n",
    "from serenity_types.ledger.balance import Balance\n",
    "from serenity_types.portfolio.core import PortfolioSnapshotCreateRequest\n",
    "\n",
    "create_request = PortfolioSnapshotCreateRequest(\n",
    "    portfolio_metadata_id=metadata.metadata_id,\n",
    "    as_of_time=datetime.datetime.now(datetime.timezone.utc),\n",
    "    updated_by=\"Python SDK\",\n",
    "    balances=[\n",
    "        Balance(asset_id=btc_token.asset_id, quantity=random.uniform(1, 10)),\n",
    "        Balance(asset_id=eth_token.asset_id, quantity=random.uniform(10, 50)),\n",
    "        Balance(asset_id=btc_future.asset_id, quantity=random.randint(10, 50)),\n",
    "        Balance(asset_id=eth_future.asset_id, quantity=random.randint(10, 50))\n",
    "    ]\n",
    ")\n",
    "snapshot = api.portfolio().create_portfolio_snapshot(create_request)\n",
    "# Print the output as table\n",
    "pd.json_normalize([snapshot.dict()], record_path=\"balances\", meta=['portfolio_metadata_id', 'snapshot_id'])"
   ]
  },
  {
   "attachments": {},
   "cell_type": "markdown",
   "id": "2fa28915",
   "metadata": {},
   "source": [
    "## Retrieve all the Portfolio Snapshots associated with the Portfolio Metadata"
   ]
  },
  {
   "cell_type": "code",
   "execution_count": null,
   "id": "72d7666e-d081-4f63-9d79-90490eeb8b33",
   "metadata": {},
   "outputs": [],
   "source": [
    "snapshots = api.portfolio().list_portfolio_snapshots(metadata_id)\n",
    "# Print the output as table\n",
    "pd.json_normalize((snapshot.dict() for snapshot in snapshots), record_path=\"balances\", meta=['portfolio_metadata_id', 'snapshot_id', 'as_of_time', 'version'])"
   ]
  },
  {
   "attachments": {},
   "cell_type": "markdown",
   "id": "04350e7c-fec1-4236-add3-8d7ece0ae4e5",
   "metadata": {},
   "source": [
    "## Amend a Portfolio Snapshot"
   ]
  },
  {
   "cell_type": "code",
   "execution_count": null,
   "id": "4137c1db-362f-4e28-a7a9-23e9f83194ad",
   "metadata": {},
   "outputs": [],
   "source": [
    "from serenity_types.portfolio.core import PortfolioSnapshotUpdateRequest\n",
    "\n",
    "update_request = PortfolioSnapshotUpdateRequest(\n",
    "    portfolio_metadata_id=metadata.metadata_id,\n",
    "    as_of_time=snapshot.as_of_time,\n",
    "    updated_by=\"Python SDK\",\n",
    "    balances=[\n",
    "        Balance(asset_id=btc_token.asset_id, quantity=random.uniform(10, 50)),\n",
    "        Balance(asset_id=eth_token.asset_id, quantity=random.uniform(20, 60)),\n",
    "        Balance(asset_id=btc_future.asset_id, quantity=random.randint(20, 100)),\n",
    "        Balance(asset_id=eth_future.asset_id, quantity=random.randint(20, 100))\n",
    "    ]\n",
    ")\n",
    "updated_snapshot = api.portfolio().update_portfolio_snapshot(snapshot.snapshot_id, update_request)\n",
    "# Print the output as table\n",
    "pd.json_normalize(updated_snapshot.dict(), record_path=\"balances\", meta=['portfolio_metadata_id', 'snapshot_id', 'as_of_time', 'version'])"
   ]
  },
  {
   "attachments": {},
   "cell_type": "markdown",
   "id": "ef5e467a",
   "metadata": {},
   "source": [
    "## Convert Portfolio Snapshot into a format compatible with the current SDK API"
   ]
  },
  {
   "cell_type": "code",
   "execution_count": null,
   "id": "7e81d3ce",
   "metadata": {},
   "outputs": [],
   "source": [
    "legacy_portfolio = api.portfolio().to_legacy_portfolio(updated_snapshot)\n",
    "# Print the output as table\n",
    "pd.json_normalize(legacy_portfolio.to_asset_positions())"
   ]
  },
  {
   "attachments": {},
   "cell_type": "markdown",
   "id": "35beca83-40da-4346-8129-90c23211e39b",
   "metadata": {},
   "source": [
    "## Delete Portfolio Snapshot"
   ]
  },
  {
   "cell_type": "code",
   "execution_count": null,
   "id": "d3117535-f4cc-46cd-8183-1cfa20831a0f",
   "metadata": {},
   "outputs": [],
   "source": [
    "api.portfolio().delete_portfolio_snapshot(snapshot.snapshot_id)"
   ]
  },
  {
   "attachments": {},
   "cell_type": "markdown",
   "id": "fb759f3f",
   "metadata": {},
   "source": [
    "## Delete Portfolio Metadata"
   ]
  },
  {
   "cell_type": "code",
   "execution_count": null,
   "id": "35df7617",
   "metadata": {},
   "outputs": [],
   "source": [
    "api.portfolio().delete_portfolio_metadata(metadata.metadata_id)"
   ]
  }
 ],
 "metadata": {
  "kernelspec": {
   "display_name": ".venv",
   "language": "python",
   "name": "python3"
  },
  "language_info": {
   "codemirror_mode": {
    "name": "ipython",
    "version": 3
   },
   "file_extension": ".py",
   "mimetype": "text/x-python",
   "name": "python",
   "nbconvert_exporter": "python",
   "pygments_lexer": "ipython3",
   "version": "3.8.16"
  },
  "vscode": {
   "interpreter": {
    "hash": "da01d933f08a19496ff2bc47bee57d1aad5a98d2dadc2d94c49482637001ed3b"
   }
  }
 },
 "nbformat": 4,
 "nbformat_minor": 5
}
