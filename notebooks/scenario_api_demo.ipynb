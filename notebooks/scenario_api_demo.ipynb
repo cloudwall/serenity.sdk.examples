{
 "cells": [
  {
   "cell_type": "markdown",
   "id": "b90bcbf6-a176-498b-b540-6891830c1bed",
   "metadata": {},
   "source": [
    "# Demo: Serenity Scenario API\n",
    "\n",
    "Serenity lets you run stress tests on linear products -- portfolios of digital asset tokens -- in its current version. You can run scenarios that you create yourself, called custom scenarios, or you can use canned or predefined scenarios packaged with the Serenity platform. The API lets you manage your custom scenarios, execute scenario runs and retrieve run results programmatically, so if you wish to develop your own suite of regular scenarios to run against your portfolio you can easily script them."
   ]
  },
  {
   "cell_type": "code",
   "execution_count": null,
   "id": "1f81870d-1e41-41b3-acd0-56bc6b13a3e7",
   "metadata": {},
   "outputs": [],
   "source": [
    "%%capture --no-stderr --no-display\n",
    "%load_ext autoreload\n",
    "%autoreload 2"
   ]
  },
  {
   "cell_type": "code",
   "execution_count": null,
   "id": "ce95d33a",
   "metadata": {},
   "outputs": [],
   "source": [
    "import os\n",
    "from serenity_sdk.widgets import ConnectWidget\n",
    "\n",
    "# if you want to auto-connect, set this environment variable to your desired default\n",
    "connect_widget = ConnectWidget(os.getenv('SERENITY_CONFIG_ID', None))"
   ]
  },
  {
   "cell_type": "code",
   "execution_count": null,
   "id": "8b08ec4e",
   "metadata": {},
   "outputs": [],
   "source": [
    "import datetime\n",
    "import re\n",
    "\n",
    "from datetime import date\n",
    "from uuid import UUID, uuid4\n",
    "\n",
    "import pandas as pd\n",
    "\n",
    "# create an alias to the api\n",
    "api = connect_widget.get_api()"
   ]
  },
  {
   "attachments": {},
   "cell_type": "markdown",
   "id": "700774b0-45ed-4045-91b5-0476b1ef9d47",
   "metadata": {},
   "source": [
    "## Getting started\n",
    "\n",
    "To run a scenario the first thing we need is a portfolio:"
   ]
  },
  {
   "cell_type": "code",
   "execution_count": null,
   "id": "9d54e044-3202-4f20-9ecf-f60e185c60a2",
   "metadata": {},
   "outputs": [],
   "source": [
    "from serenity_types.portfolio.core import SimplePortfolio\n",
    "\n",
    "asset_master = api.refdata().load_asset_master()\n",
    "\n",
    "portfolio_raw = {\n",
    "    'ADA': 1000000,\n",
    "    'BTC': 100,\n",
    "    'ETH': 1000,\n",
    "    'XRP': 2000000,\n",
    "    'ALGO': 1500000,\n",
    "    'SOL': 10000,\n",
    "    'DOT': 50000\n",
    "}\n",
    "portfolio = asset_master.create_portfolio(portfolio_raw, symbology='NATIVE')\n",
    "\n",
    "# scenarios uses a special type, SimplePortfolio -- wrap it\n",
    "simple_portfolio = SimplePortfolio(portfolio_id=uuid4(),\n",
    "                                   portfolio_name='Test Portfolio',\n",
    "                                   portfolio_manager='Test PM',\n",
    "                                   base_currency_id=uuid4(),\n",
    "                                   asset_positions=portfolio.to_asset_positions())"
   ]
  },
  {
   "cell_type": "code",
   "execution_count": null,
   "id": "5cfbb752",
   "metadata": {},
   "outputs": [],
   "source": [
    "models = api.model()"
   ]
  },
  {
   "cell_type": "code",
   "execution_count": null,
   "id": "58918b98",
   "metadata": {},
   "outputs": [],
   "source": [
    "model_short_name = 'risk.factor.ff.beta.mt.v1_6'  \n",
    "model_meta = api.model().load_model_metadata()\n",
    "model_config_id = model_meta.get_model_configuration_id(model_short_name)"
   ]
  },
  {
   "attachments": {},
   "cell_type": "markdown",
   "id": "da11abeb",
   "metadata": {},
   "source": [
    "The starting point is to acquire a Scenarios API wrapper:"
   ]
  },
  {
   "cell_type": "code",
   "execution_count": null,
   "id": "97419aa7",
   "metadata": {},
   "outputs": [],
   "source": [
    "scenarios = api.scenarios()"
   ]
  },
  {
   "attachments": {},
   "cell_type": "markdown",
   "id": "818369ec",
   "metadata": {},
   "source": [
    "## Listing custom scenarios"
   ]
  },
  {
   "cell_type": "code",
   "execution_count": null,
   "id": "dbb346c5",
   "metadata": {},
   "outputs": [],
   "source": [
    "custom_scenarios = scenarios.get_custom_scenarios().result\n",
    "rows = []\n",
    "for scenario in custom_scenarios:\n",
    "    rows.append({'scenario_id': scenario.scenario_id, 'scenario_name': scenario.name})\n",
    "pd.DataFrame(rows)"
   ]
  },
  {
   "attachments": {},
   "cell_type": "markdown",
   "id": "0fab6846",
   "metadata": {},
   "source": [
    "## Listing predefined scenarios"
   ]
  },
  {
   "cell_type": "code",
   "execution_count": null,
   "id": "1fa85576",
   "metadata": {},
   "outputs": [],
   "source": [
    "predefined_scenarios = scenarios.get_predefined_scenarios().result\n",
    "scenario_by_name = {}\n",
    "rows = []\n",
    "for scenario in predefined_scenarios:\n",
    "    name_elements = re.split(':\\s', scenario.name)\n",
    "    model_config_id = UUID(name_elements[0])\n",
    "    scenario_name = name_elements[1]\n",
    "    rows.append({'scenario_id': scenario.scenario_id, 'model_config_id': model_config_id, 'scenario_name': scenario_name})\n",
    "    scenario_by_name[scenario_name] = {'scenario': scenario, 'model_config_id': model_config_id}\n",
    "pd.DataFrame(rows)"
   ]
  },
  {
   "attachments": {},
   "cell_type": "markdown",
   "id": "f584302d",
   "metadata": {},
   "source": [
    "## Managing custom scenarios"
   ]
  },
  {
   "cell_type": "markdown",
   "id": "0d4eac98",
   "metadata": {},
   "source": [
    "### Example 1: Defining your own custom shocks"
   ]
  },
  {
   "cell_type": "code",
   "execution_count": null,
   "id": "5e9242b6",
   "metadata": {},
   "outputs": [],
   "source": [
    "from serenity_types.risk.scenarios import ScenarioCloneRequest, ScenarioDefinition, ScenarioSource\n",
    "\n",
    "# create a custom scenario, letting the server allocated ID and version\n",
    "custom = ScenarioDefinition(scenario_id=None, scenario_version=None,\n",
    "                            source=ScenarioSource.CUSTOM,\n",
    "                            name='Demo Custom Scenario',\n",
    "                            shocks=[], last_updated_by='SDK notebook')\n",
    "custom = scenarios.create_custom_scenario(custom).result"
   ]
  },
  {
   "cell_type": "code",
   "execution_count": null,
   "id": "c7999069",
   "metadata": {},
   "outputs": [],
   "source": [
    "# update it\n",
    "custom.name='Demo Custom Scenario MODIFIED'\n",
    "custom = scenarios.update_custom_scenario(custom).result"
   ]
  },
  {
   "cell_type": "code",
   "execution_count": null,
   "id": "db388530",
   "metadata": {},
   "outputs": [],
   "source": [
    "# clone it\n",
    "clone_request = ScenarioCloneRequest(scenario_id=custom.scenario_id, scenario_name=f'{custom.name} - CLONED')\n",
    "custom_clone = scenarios.clone_scenario(clone_request).result"
   ]
  },
  {
   "cell_type": "code",
   "execution_count": null,
   "id": "1b2127b7",
   "metadata": {},
   "outputs": [],
   "source": [
    "# delete the scenario and its clone\n",
    "assert scenarios.delete_custom_scenario(custom.scenario_id).result.deleted\n",
    "assert scenarios.delete_custom_scenario(custom_clone.scenario_id).result.deleted"
   ]
  },
  {
   "cell_type": "markdown",
   "id": "1f574f7c",
   "metadata": {},
   "source": [
    "### Example 2: Using Serenity's automated Scenario generation feature"
   ]
  },
  {
   "cell_type": "code",
   "execution_count": null,
   "id": "bb580077",
   "metadata": {},
   "outputs": [],
   "source": [
    "from serenity_types.risk.scenarios import CustomScenarioGeneratorRequest, ScenarioDefinition\n",
    "\n",
    "# generate a custom scenario definition by passing in the \n",
    "generator_req = CustomScenarioGeneratorRequest(\n",
    "    name=\"Demo Auto Generated Scenario\",\n",
    "    start_date=\"2023-10-01\",\n",
    "    end_date=\"2023-10-25\",\n",
    "    model_config_id=model_config_id)\n",
    "custom_gen = scenarios.generate_custom_scenario(generator_req).result\n",
    "custom_gen"
   ]
  },
  {
   "cell_type": "code",
   "execution_count": null,
   "id": "41c66fa9",
   "metadata": {},
   "outputs": [],
   "source": [
    "from serenity_sdk.client.raw import SerenityError\n",
    "from serenity_types.risk.scenarios import ScenarioRequest\n",
    "from serenity_types.pricing.core import PricingContext\n",
    "\n",
    "request = ScenarioRequest(scenario_id=custom_gen.scenario_id, portfolio=simple_portfolio,\n",
    "                          model_config_id=model_config_id)\n",
    "\n",
    "response = scenarios.run_scenario(request)\n",
    "response.result"
   ]
  },
  {
   "cell_type": "code",
   "execution_count": null,
   "id": "64f21f2c",
   "metadata": {},
   "outputs": [],
   "source": [
    "# delete the auto generated scenario\n",
    "assert scenarios.delete_custom_scenario(custom_gen.scenario_id).result.deleted"
   ]
  },
  {
   "attachments": {},
   "cell_type": "markdown",
   "id": "bc4d0ac5",
   "metadata": {},
   "source": [
    "## Running a predefined scenario"
   ]
  },
  {
   "cell_type": "code",
   "execution_count": null,
   "id": "80c2efc4",
   "metadata": {},
   "outputs": [],
   "source": [
    "from serenity_sdk.client.raw import SerenityError\n",
    "from serenity_types.risk.scenarios import ScenarioRequest\n",
    "from serenity_types.pricing.core import PricingContext\n",
    "\n",
    "scenario_info = scenario_by_name['3AC Insolvency']\n",
    "predefined_scenario = scenario_info['scenario']\n",
    "model_config_id = scenario_info['model_config_id']\n",
    "start_date = date(2022, 12, 26)\n",
    "pricing_context = PricingContext(as_of_date=start_date)\n",
    "request = ScenarioRequest(scenario_id=None, scenario=predefined_scenario, portfolio=simple_portfolio,\n",
    "                          pricing_context=pricing_context, model_config_id=model_config_id,\n",
    "                          start_date=start_date, end_date=start_date, schema_version=1)\n",
    "\n",
    "scenarios.run_scenario(request)"
   ]
  }
 ],
 "metadata": {
  "kernelspec": {
   "display_name": ".venv",
   "language": "python",
   "name": "python3"
  },
  "language_info": {
   "codemirror_mode": {
    "name": "ipython",
    "version": 3
   },
   "file_extension": ".py",
   "mimetype": "text/x-python",
   "name": "python",
   "nbconvert_exporter": "python",
   "pygments_lexer": "ipython3",
   "version": "3.8.10"
  },
  "vscode": {
   "interpreter": {
    "hash": "f3aa3a76c036392393d06cadc89e4625c04c6b5098937dc7daae5882adc20ab0"
   }
  }
 },
 "nbformat": 4,
 "nbformat_minor": 5
}
