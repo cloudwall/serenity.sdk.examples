{
 "cells": [
  {
   "cell_type": "markdown",
   "metadata": {},
   "source": [
    "# Demo: Serenity Data Download API\n",
    "\n",
    "Basic demonstration of how to get URL and token to list and download Serenity's files."
   ]
  },
  {
   "cell_type": "markdown",
   "metadata": {},
   "source": [
    "## Setup"
   ]
  },
  {
   "cell_type": "code",
   "execution_count": null,
   "metadata": {},
   "outputs": [],
   "source": [
    "%%capture --no-stderr --no-display\n",
    "%load_ext autoreload\n",
    "%autoreload 2"
   ]
  },
  {
   "cell_type": "code",
   "execution_count": null,
   "metadata": {},
   "outputs": [],
   "source": [
    "import os\n",
    "from serenity_sdk.widgets import ConnectWidget\n",
    "\n",
    "# if you want to auto-connect, set this environment variable to your desired default\n",
    "connect_widget = ConnectWidget(os.getenv('SERENITY_CONFIG_ID', None))"
   ]
  },
  {
   "cell_type": "code",
   "execution_count": null,
   "metadata": {},
   "outputs": [],
   "source": [
    "import pandas as pd\n",
    "import seaborn as sns\n",
    "\n",
    "# set Seaborn style\n",
    "sns.set(style=\"whitegrid\")\n",
    "\n",
    "# create an alias to the api\n",
    "api = connect_widget.get_api()"
   ]
  },
  {
   "cell_type": "markdown",
   "metadata": {},
   "source": [
    "## CTM Projection Rate Dataset"
   ]
  },
  {
   "cell_type": "code",
   "execution_count": null,
   "metadata": {},
   "outputs": [],
   "source": [
    "# Generate URL and Token to access CTM Projection Rate dataset\n",
    "\n",
    "from serenity_types.storage.core import DatasetContent\n",
    "\n",
    "dataset_url_and_token = api.storage_api.get_ctm_download_url_and_token(DatasetContent.CTM_PROJ_RATE)\n",
    "dataset_url_and_token"
   ]
  },
  {
   "cell_type": "markdown",
   "metadata": {},
   "source": [
    "#### List all of the available files"
   ]
  },
  {
   "cell_type": "code",
   "execution_count": null,
   "metadata": {},
   "outputs": [],
   "source": [
    "import requests\n",
    "from xml.etree import ElementTree\n",
    "\n",
    "# Access the generated URL + token to get list of available files\n",
    "list_files = requests.get(dataset_url_and_token.full_list_files_url)\n",
    "list_files_tree = ElementTree.fromstring(list_files.content)\n",
    "\n",
    "all_filenames = [file.text for file in list_files_tree.findall(\".//Name\")]\n",
    "all_filenames"
   ]
  },
  {
   "cell_type": "markdown",
   "metadata": {},
   "source": [
    "#### Download files and reconstruct as DataFrame"
   ]
  },
  {
   "cell_type": "code",
   "execution_count": null,
   "metadata": {},
   "outputs": [],
   "source": [
    "from io import BytesIO\n",
    "\n",
    "ctm_proj_rates = []\n",
    "\n",
    "# Download only the first 5 files\n",
    "for filename in all_filenames[:5]:\n",
    "    download_file_url = f\"{dataset_url_and_token.root_url}/{filename}?{dataset_url_and_token.sas_token}\"\n",
    "    downloaded_file = requests.get(download_file_url)\n",
    "    df = pd.read_parquet(BytesIO(downloaded_file.content))\n",
    "    ctm_proj_rates.append(df)\n",
    "\n",
    "ctm_proj_rates_df = pd.concat(ctm_proj_rates)\n",
    "ctm_proj_rates_df"
   ]
  },
  {
   "cell_type": "markdown",
   "metadata": {},
   "source": [
    "## CTM Basis Dataset"
   ]
  },
  {
   "cell_type": "code",
   "execution_count": null,
   "metadata": {},
   "outputs": [],
   "source": [
    "# Generate URL and Token to access CTM Basis dataset\n",
    "\n",
    "from serenity_types.storage.core import DatasetContent\n",
    "\n",
    "ctm_basis_url_and_token = api.storage_api.get_ctm_download_url_and_token(DatasetContent.CTM_BASIS)\n",
    "ctm_basis_url_and_token"
   ]
  },
  {
   "cell_type": "markdown",
   "metadata": {},
   "source": [
    "#### List all of the available files"
   ]
  },
  {
   "cell_type": "code",
   "execution_count": null,
   "metadata": {},
   "outputs": [],
   "source": [
    "import requests\n",
    "from xml.etree import ElementTree\n",
    "\n",
    "# Access the generated URL + token to get list of available files\n",
    "list_files = requests.get(ctm_basis_url_and_token.full_list_files_url)\n",
    "list_files_tree = ElementTree.fromstring(list_files.content)\n",
    "\n",
    "all_filenames = [file.text for file in list_files_tree.findall(\".//Name\")]\n",
    "all_filenames"
   ]
  },
  {
   "cell_type": "markdown",
   "metadata": {},
   "source": [
    "#### Download files and reconstruct as DataFrame"
   ]
  },
  {
   "cell_type": "code",
   "execution_count": null,
   "metadata": {},
   "outputs": [],
   "source": [
    "from io import BytesIO\n",
    "\n",
    "ctm_basis = []\n",
    "\n",
    "# Download only the first 5 files\n",
    "for filename in all_filenames[:5]:\n",
    "    download_file_url = f\"{ctm_basis_url_and_token.root_url}/{filename}?{ctm_basis_url_and_token.sas_token}\"\n",
    "    downloaded_file = requests.get(download_file_url)\n",
    "    df = pd.read_parquet(BytesIO(downloaded_file.content))\n",
    "    ctm_basis.append(df)\n",
    "\n",
    "ctm_basis_df = pd.concat(ctm_basis)\n",
    "ctm_basis_df"
   ]
  }
 ],
 "metadata": {
  "kernelspec": {
   "display_name": "Python 3 (ipykernel)",
   "language": "python",
   "name": "python3"
  },
  "language_info": {
   "codemirror_mode": {
    "name": "ipython",
    "version": 3
   },
   "file_extension": ".py",
   "mimetype": "text/x-python",
   "name": "python",
   "nbconvert_exporter": "python",
   "pygments_lexer": "ipython3",
   "version": "3.8.16"
  }
 },
 "nbformat": 4,
 "nbformat_minor": 4
}
