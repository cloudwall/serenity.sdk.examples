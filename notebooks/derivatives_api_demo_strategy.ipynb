{
 "cells": [
  {
   "attachments": {},
   "cell_type": "markdown",
   "metadata": {},
   "source": [
    "# Option Strategy Demo Notebook\n",
    "\n",
    "In this notebook, we show how to use the option strategy API to create a strategy and value it."
   ]
  },
  {
   "cell_type": "code",
   "execution_count": null,
   "metadata": {},
   "outputs": [],
   "source": [
    "%%capture --no-stderr --no-display\n",
    "%load_ext autoreload\n",
    "%autoreload 2"
   ]
  },
  {
   "cell_type": "code",
   "execution_count": null,
   "metadata": {},
   "outputs": [],
   "source": [
    "import os\n",
    "from serenity_sdk.widgets import ConnectWidget\n",
    "\n",
    "# if you want to auto-connect, set this environment variable to your desired default\n",
    "connect_widget = ConnectWidget(os.getenv('SERENITY_CONFIG_ID', None))"
   ]
  },
  {
   "cell_type": "code",
   "execution_count": null,
   "metadata": {},
   "outputs": [],
   "source": [
    "from serenity_sdk.renderers.derivatives.widget_tools import OptionChooser\n",
    "from serenity_sdk.renderers.derivatives import market_data\n",
    "from serenity_sdk.renderers.shared.utils import make_df_from_list\n",
    "import pandas as pd\n",
    "import numpy as np\n",
    "\n",
    "from serenity_types.pricing.derivatives.options.valuation import AssetValuation, StrategyValuationRequest\n",
    "from serenity_types.refdata.asset import Asset\n",
    "\n",
    "from serenity_sdk.renderers.derivatives.option_finders import OptionFinder\n",
    "# create an alias to the api\n",
    "api = connect_widget.get_api()"
   ]
  },
  {
   "attachments": {},
   "cell_type": "markdown",
   "metadata": {},
   "source": [
    "## Setup"
   ]
  },
  {
   "cell_type": "code",
   "execution_count": null,
   "metadata": {},
   "outputs": [],
   "source": [
    "# Set the datetime\n",
    "as_of_datetime = pd.Timestamp.now(tz='UTC').to_pydatetime()\n",
    "as_of_datetime"
   ]
  },
  {
   "cell_type": "code",
   "execution_count": null,
   "metadata": {},
   "outputs": [],
   "source": [
    "# Find the supported underliers\n",
    "underlier_map = make_df_from_list(api.pricer().get_supported_underliers()).set_index('native_symbol')['asset_id']\n",
    "underlier_map"
   ]
  },
  {
   "cell_type": "code",
   "execution_count": null,
   "metadata": {},
   "outputs": [],
   "source": [
    "# Find exchanges\n",
    "# use deribit, bybit\n",
    "exchange_map = api.refdata().get_exchanges()\n",
    "exchange_map"
   ]
  },
  {
   "cell_type": "code",
   "execution_count": null,
   "metadata": {},
   "outputs": [],
   "source": [
    "# select an exchange and underlier\n",
    "exchange_id = exchange_map['deribit']\n",
    "underlier_id = underlier_map['BTC']\n",
    "print(f\"exchange: {exchange_id}, underlier: {underlier_id}\")"
   ]
  },
  {
   "cell_type": "code",
   "execution_count": null,
   "metadata": {},
   "outputs": [],
   "source": [
    "# get the spot price for the underlier so that reasonable strikes can be chosen\n",
    "spot_price = market_data.get_spot_price(api, underlier_id)"
   ]
  },
  {
   "attachments": {},
   "cell_type": "markdown",
   "metadata": {},
   "source": [
    "## Initialize the option finder\n",
    "This helps to select options for the strategy."
   ]
  },
  {
   "cell_type": "code",
   "execution_count": null,
   "metadata": {},
   "outputs": [],
   "source": [
    "option_finder = OptionFinder(api, exchange_id, underlier_id)"
   ]
  },
  {
   "cell_type": "code",
   "execution_count": null,
   "metadata": {},
   "outputs": [],
   "source": [
    "available_expiries = option_finder.expiry_datetimes\n",
    "available_strikes = option_finder.strikes\n",
    "print(f\"expiries: {available_expiries}\")\n",
    "print(f\"strikes: {available_strikes}\")"
   ]
  },
  {
   "attachments": {},
   "cell_type": "markdown",
   "metadata": {},
   "source": [
    "## Call Spread"
   ]
  },
  {
   "cell_type": "code",
   "execution_count": null,
   "metadata": {},
   "outputs": [],
   "source": [
    "# select an expiry and look up available options for the expiry\n",
    "time_to_expiry = available_expiries[-2]\n",
    "options_found = option_finder.get_options_for_expiry(time_to_expiry, 0.9*spot_price, 1.1*spot_price)\n",
    "options_found"
   ]
  },
  {
   "cell_type": "code",
   "execution_count": null,
   "metadata": {},
   "outputs": [],
   "source": [
    "# Set up a strategy and compute the valuation\n",
    "strategy_request = StrategyValuationRequest(\n",
    "    legs=[\n",
    "        AssetValuation(\n",
    "            valuation_id='call low strike',\n",
    "            asset_id=options_found['CALL'].iloc[0],\n",
    "            qty = 1\n",
    "        ),\n",
    "        AssetValuation(\n",
    "            valuation_id='call high strike',\n",
    "            asset_id=options_found['CALL'].iloc[-1],\n",
    "            qty = -1\n",
    "        )\n",
    "    ]\n",
    ")\n",
    "\n",
    "api.pricer().compute_strategy_valuation(\n",
    "    request=strategy_request\n",
    ")"
   ]
  },
  {
   "attachments": {},
   "cell_type": "markdown",
   "metadata": {},
   "source": [
    "## Calendar spread"
   ]
  },
  {
   "cell_type": "code",
   "execution_count": null,
   "metadata": {},
   "outputs": [],
   "source": [
    "# Find a strike for calendar spread\n",
    "# Get the strike closest to the spot price where there are at least 4 options available so that \n",
    "# a calendar spread can be constructed\n",
    "strikes_by_distance_to_spot = sorted(available_strikes, key=lambda x: np.abs(x - spot_price))\n",
    "for strike_price in strikes_by_distance_to_spot:\n",
    "    options_found = option_finder.get_options_for_strike(strike_price)\n",
    "    if len(options_found) > 4:\n",
    "        break\n",
    "calendar_strike = strike_price\n",
    "options_found"
   ]
  },
  {
   "cell_type": "code",
   "execution_count": null,
   "metadata": {},
   "outputs": [],
   "source": [
    "# Set up a strategy and compute the valuation\n",
    "strategy_request = StrategyValuationRequest(\n",
    "    legs=[\n",
    "        AssetValuation(\n",
    "            valuation_id='call short expiry',\n",
    "            asset_id=options_found['CALL'].iloc[-2],\n",
    "            qty = 1\n",
    "        ),\n",
    "        AssetValuation(\n",
    "            valuation_id='call long expiry',\n",
    "            asset_id=options_found['CALL'].iloc[-1],\n",
    "            qty = -1\n",
    "        )\n",
    "    ]\n",
    ")\n",
    "\n",
    "api.pricer().compute_strategy_valuation(\n",
    "    request=strategy_request\n",
    ")"
   ]
  }
 ],
 "metadata": {
  "kernelspec": {
   "display_name": ".venv",
   "language": "python",
   "name": "python3"
  },
  "language_info": {
   "codemirror_mode": {
    "name": "ipython",
    "version": 3
   },
   "file_extension": ".py",
   "mimetype": "text/x-python",
   "name": "python",
   "nbconvert_exporter": "python",
   "pygments_lexer": "ipython3",
   "version": "3.8.10"
  },
  "orig_nbformat": 4
 },
 "nbformat": 4,
 "nbformat_minor": 2
}
