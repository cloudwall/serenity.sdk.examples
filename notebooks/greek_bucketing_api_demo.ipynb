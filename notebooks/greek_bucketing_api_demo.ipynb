{
 "cells": [
  {
   "attachments": {},
   "cell_type": "markdown",
   "id": "611c0e34-6774-43d8-8cb2-c6392eae95f6",
   "metadata": {},
   "source": [
    "# Demo: Running Greek Bucketing/Measures using transient portfolio and/or stored portfolio\n",
    "\n",
    "This notebook demonstrates how to run greek bucketing/measures API using transient portfolio (balances) and/or stored portfolio (portfolio metadata id)"
   ]
  },
  {
   "cell_type": "code",
   "execution_count": null,
   "id": "b5ec6a17-9178-4e67-b6cc-43585d61cba4",
   "metadata": {},
   "outputs": [],
   "source": [
    "%%capture --no-stderr --no-display\n",
    "%load_ext autoreload\n",
    "%autoreload 2"
   ]
  },
  {
   "cell_type": "code",
   "execution_count": null,
   "id": "74172c3d",
   "metadata": {},
   "outputs": [],
   "source": [
    "import os\n",
    "from serenity_sdk.widgets import ConnectWidget\n",
    "\n",
    "# if you want to auto-connect, set this environment variable to your desired default\n",
    "connect_widget = ConnectWidget(os.getenv('SERENITY_CONFIG_ID', None))"
   ]
  },
  {
   "cell_type": "code",
   "execution_count": null,
   "id": "d4795650",
   "metadata": {},
   "outputs": [],
   "source": [
    "# create an alias to the api\n",
    "api = connect_widget.get_api()"
   ]
  },
  {
   "cell_type": "markdown",
   "id": "3f2815f2",
   "metadata": {},
   "source": [
    "## Run Greek Measures / Bucketing with transient portfolio"
   ]
  },
  {
   "cell_type": "code",
   "execution_count": null,
   "id": "f2e3a5d0",
   "metadata": {},
   "outputs": [],
   "source": [
    "from serenity_types.portfolio.core import Balance\n",
    "\n",
    "transient_portfolio = [\n",
    "    Balance(asset_id=\"a9bc74b3-c761-4446-b4f2-725ae1dcf4fc\", quantity=101748.0),\n",
    "    Balance(asset_id=\"78e2e8e2-419d-4515-9b6a-3d5ff1448e89\", quantity=1000.0),\n",
    "    Balance(asset_id=\"95b89dfd-c5f6-41d6-83c6-a9d97e0ac361\", quantity=20000.0),\n",
    "    Balance(asset_id=\"5b7256a0-e0a8-4876-a881-6d52db728eaf\", quantity=25000.0),\n",
    "    Balance(asset_id=\"1b659c93-83b6-4257-8c46-65b5019f0b15\", quantity=30000.0),\n",
    "    Balance(asset_id=\"be6d3298-cd41-43fe-889a-e7dd37441aec\", quantity=35000.0),\n",
    "    Balance(asset_id=\"78e2e8e2-419d-4515-9b6a-3d5ff1448e89\", quantity=500.0),\n",
    "    Balance(asset_id=\"a9bc74b3-c761-4446-b4f2-725ae1dcf4fc\", quantity=30000.0)\n",
    "]\n",
    "\n",
    "greek_measures_result = api.risk_analytics().compute_greek_measures(pf_balances=transient_portfolio)\n",
    "greek_measures_result.dict()"
   ]
  },
  {
   "cell_type": "markdown",
   "id": "eef9dc50",
   "metadata": {},
   "source": [
    "## Run Greek Measures / Bucketing with stored portfolios"
   ]
  },
  {
   "cell_type": "markdown",
   "id": "b8d8e924",
   "metadata": {},
   "source": [
    "### (Optional) Get the portfolio metadata id to be used"
   ]
  },
  {
   "cell_type": "code",
   "execution_count": null,
   "id": "9892f6a2",
   "metadata": {},
   "outputs": [],
   "source": [
    "# List all of the available portfolio metadatas\n",
    "metadata_list = api.portfolio().list_portfolio_metadata()\n",
    "\n",
    "# for demo purpose, pick the first metadata with account (if any) from the available metadata\n",
    "metadata_with_acc = [m for m in metadata_list if m.account_ids is not None]\n",
    "metadata_id = metadata_with_acc[0].metadata_id if metadata_with_acc else metadata_list[0].metadata_id\n",
    "metadata_id"
   ]
  },
  {
   "cell_type": "markdown",
   "id": "cddbc0f0",
   "metadata": {},
   "source": [
    "### Run Greek Measures / Bucketing using portfolio metadata id"
   ]
  },
  {
   "cell_type": "code",
   "execution_count": null,
   "id": "82dca8fc",
   "metadata": {},
   "outputs": [],
   "source": [
    "greek_measures_result = api.risk_analytics().compute_greek_measures(pf_metadata_id=metadata_id)\n",
    "greek_measures_result.dict()"
   ]
  },
  {
   "cell_type": "markdown",
   "id": "7d51751e",
   "metadata": {},
   "source": [
    "## Using different as_of_time"
   ]
  },
  {
   "cell_type": "markdown",
   "id": "58028ba1",
   "metadata": {},
   "source": [
    "As per API docs, we can specify different \"as_of_time\" and/or \"portfolio_as_of_time\"\n",
    "\n",
    "as_of_time: The as-of time to be used when asking the data source for market data.\n",
    "\n",
    "portfolio_as_of_time: The as-of time used to determine which portfolio snapshot is to be used."
   ]
  },
  {
   "cell_type": "code",
   "execution_count": null,
   "id": "286240e6",
   "metadata": {},
   "outputs": [],
   "source": [
    "from datetime import datetime, timedelta, timezone\n",
    "\n",
    "# set as_of_time to be 3 days ago i.e. get prices as of 3 days ago.\n",
    "as_of_time = datetime.now(timezone.utc) - timedelta(days=3)\n",
    "\n",
    "# set pf_as_of_time to older snapshot datetime\n",
    "snapshots = api.portfolio().list_portfolio_snapshots(metadata_id)\n",
    "pf_as_of_time = snapshots[-1].as_of_time\n",
    "\n",
    "greek_measures_result = api.risk_analytics().compute_greek_measures(\n",
    "    as_of_time=as_of_time,\n",
    "    pf_as_of_time=pf_as_of_time,\n",
    "    pf_metadata_id=metadata_id\n",
    ")\n",
    "greek_measures_result.dict()"
   ]
  }
 ],
 "metadata": {
  "kernelspec": {
   "display_name": ".venv",
   "language": "python",
   "name": "python3"
  },
  "language_info": {
   "codemirror_mode": {
    "name": "ipython",
    "version": 3
   },
   "file_extension": ".py",
   "mimetype": "text/x-python",
   "name": "python",
   "nbconvert_exporter": "python",
   "pygments_lexer": "ipython3",
   "version": "3.8.16"
  },
  "vscode": {
   "interpreter": {
    "hash": "da01d933f08a19496ff2bc47bee57d1aad5a98d2dadc2d94c49482637001ed3b"
   }
  }
 },
 "nbformat": 4,
 "nbformat_minor": 5
}
