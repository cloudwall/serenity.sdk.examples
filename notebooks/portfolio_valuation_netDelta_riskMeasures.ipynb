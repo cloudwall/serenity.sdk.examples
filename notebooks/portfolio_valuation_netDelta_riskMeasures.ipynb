{
 "cells": [
  {
   "attachments": {},
   "cell_type": "markdown",
   "id": "611c0e34-6774-43d8-8cb2-c6392eae95f6",
   "metadata": {},
   "source": [
    "# Demo: Using Portfolio Snapshots to run risk measure, net_delta, and portfolio valuation\n",
    "\n",
    "This notebook demonstrates how to use Portfolio Snapshots to run risk measure, net_delta, and portfolio valuation APIs."
   ]
  },
  {
   "cell_type": "code",
   "execution_count": null,
   "id": "b5ec6a17-9178-4e67-b6cc-43585d61cba4",
   "metadata": {},
   "outputs": [],
   "source": [
    "%%capture --no-stderr --no-display\n",
    "%load_ext autoreload\n",
    "%autoreload 2"
   ]
  },
  {
   "cell_type": "code",
   "execution_count": null,
   "id": "74172c3d",
   "metadata": {},
   "outputs": [],
   "source": [
    "import os\n",
    "from serenity_sdk.widgets import ConnectWidget\n",
    "\n",
    "# if you want to auto-connect, set this environment variable to your desired default\n",
    "connect_widget = ConnectWidget(os.getenv('SERENITY_CONFIG_ID', None))"
   ]
  },
  {
   "cell_type": "code",
   "execution_count": null,
   "id": "d4795650",
   "metadata": {},
   "outputs": [],
   "source": [
    "import pandas as pd\n",
    "\n",
    "# create an alias to the api\n",
    "api = connect_widget.get_api()"
   ]
  },
  {
   "cell_type": "markdown",
   "id": "dbac7ff5",
   "metadata": {},
   "source": [
    "## List all of the available portfolio metadatas"
   ]
  },
  {
   "cell_type": "code",
   "execution_count": null,
   "id": "9892f6a2",
   "metadata": {},
   "outputs": [],
   "source": [
    "metadata_list = api.portfolio().list_portfolio_metadata()\n",
    "metadata_list"
   ]
  },
  {
   "cell_type": "markdown",
   "id": "1688fb01",
   "metadata": {},
   "source": [
    "## Get all snapshots associated with a metadata_id"
   ]
  },
  {
   "cell_type": "code",
   "execution_count": null,
   "id": "3fbad349",
   "metadata": {},
   "outputs": [],
   "source": [
    "# pick which portfolio metadata that we want to retrieve its snapshots from\n",
    "# for demo purpose, pick the first metadata with account (if any) from the available metadata\n",
    "metadata_with_acc = [m for m in metadata_list if m.account_ids is not None]\n",
    "metadata_id = metadata_with_acc[0].metadata_id if metadata_with_acc else metadata_list[0].metadata_id\n",
    "\n",
    "# get all snapshots associated with it\n",
    "all_snapshots = []\n",
    "offset = 0\n",
    "limit = 500\n",
    "still_has_records = True\n",
    "max_records = 1000  # for demo purpose, limit large portfolio records\n",
    "while still_has_records and offset < max_records:\n",
    "    snapshots = api.portfolio().list_portfolio_snapshots(metadata_id, offset=offset, limit=limit)\n",
    "    all_snapshots.extend(snapshots)\n",
    "    if len(snapshots) < limit:\n",
    "        still_has_records = False\n",
    "    else:\n",
    "        offset = offset + limit"
   ]
  },
  {
   "cell_type": "markdown",
   "id": "c03228f7",
   "metadata": {},
   "source": [
    "## (Optional) pick latest snapshot for each date (daily frequency portfolio)"
   ]
  },
  {
   "cell_type": "code",
   "execution_count": null,
   "id": "ea0311ab",
   "metadata": {},
   "outputs": [],
   "source": [
    "daily_snapshots = {}\n",
    "for snapshot in all_snapshots:\n",
    "    as_of_date = pd.Timestamp(snapshot.as_of_time).floor('D')\n",
    "    if daily_snapshots.get(as_of_date) is None:\n",
    "        daily_snapshots[as_of_date] = snapshot\n",
    "daily_snapshots"
   ]
  },
  {
   "cell_type": "markdown",
   "id": "cddbc0f0",
   "metadata": {},
   "source": [
    "## Run Risk Measures"
   ]
  },
  {
   "cell_type": "code",
   "execution_count": null,
   "id": "82dca8fc",
   "metadata": {},
   "outputs": [],
   "source": [
    "from serenity_types.risk import measures as risk_measures\n",
    "from serenity_sdk.types.measures import RiskMeasureContext\n",
    "\n",
    "# Risk measure parameters\n",
    "measures = [\n",
    "    risk_measures.MeasureParameters(\n",
    "        tag=\"CVaR 99%\",\n",
    "        measure_type=risk_measures.MeasureType.CVAR,\n",
    "        confidence_level=\"0.99\",\n",
    "    ),\n",
    "    risk_measures.MeasureParameters(\n",
    "        tag=\"VaR 99%\",\n",
    "        measure_type=risk_measures.MeasureType.VAR,\n",
    "        confidence_level=\"0.99\",\n",
    "    ),\n",
    "    risk_measures.MeasureParameters(\n",
    "        tag=\"CVaR 95%\",\n",
    "        measure_type=risk_measures.MeasureType.CVAR,\n",
    "        confidence_level=\"0.95\",\n",
    "    ),\n",
    "    risk_measures.MeasureParameters(\n",
    "        tag=\"Downside Dev\",\n",
    "        measure_type=risk_measures.MeasureType.DOWNDEV,\n",
    "    ),\n",
    "    risk_measures.MeasureParameters(\n",
    "        tag=\"Standard Dev\",\n",
    "        measure_type=risk_measures.MeasureType.STDEV,\n",
    "    ),\n",
    "    risk_measures.MeasureParameters(\n",
    "        tag=\"Upside Dev\",\n",
    "        measure_type=risk_measures.MeasureType.UPDEV,\n",
    "    ),\n",
    "    risk_measures.MeasureParameters(\n",
    "        tag=\"CGaR 95%\",\n",
    "        measure_type=risk_measures.MeasureType.CGAR,\n",
    "        confidence_level=\"0.95\",\n",
    "    ),\n",
    "    risk_measures.MeasureParameters(\n",
    "        tag=\"GaR 99%\",\n",
    "        measure_type=risk_measures.MeasureType.GAR,\n",
    "        confidence_level=\"0.99\",\n",
    "    ),\n",
    "    risk_measures.MeasureParameters(\n",
    "        tag=\"CGaR 99%\",\n",
    "        measure_type=risk_measures.MeasureType.CGAR,\n",
    "        confidence_level=\"0.99\",\n",
    "    ),\n",
    "]\n",
    "risk_computation_request = risk_measures.RiskComputationRequest(\n",
    "    lookback_days=365, sampling_hours=1, horizon_scale=\"24.0\", measures=measures\n",
    ")\n",
    "\n",
    "# run risk measures for each snapshots\n",
    "pf_risk_measures_results = {}\n",
    "for as_of_date, pf_snapshot in daily_snapshots.items():\n",
    "    print(f'as_of_date: {as_of_date}')\n",
    "    rm_ctx = RiskMeasureContext(request=risk_computation_request, as_of_time=as_of_date)\n",
    "    legacy_portfolio = api.portfolio().to_legacy_portfolio(pf_snapshot)\n",
    "    pf_risk_measures_results[as_of_date] = api.risk().compute_risk_measures(rm_ctx, legacy_portfolio)\n",
    "pf_risk_measures_results"
   ]
  },
  {
   "cell_type": "markdown",
   "id": "6260da2f",
   "metadata": {},
   "source": [
    "## Run Net-Delta"
   ]
  },
  {
   "cell_type": "code",
   "execution_count": null,
   "id": "b3ab94a7",
   "metadata": {},
   "outputs": [],
   "source": [
    "from serenity_types.pricing.core import CashTreatment, PricingContext\n",
    "\n",
    "asset_master = api.refdata().load_asset_master()\n",
    "usd_asset_id = asset_master.get_asset_id_by_symbol('ccy.usd', 'SERENITY')\n",
    "\n",
    "# run net_delta conversion for each snapshots\n",
    "pf_net_delta_results = {}\n",
    "for as_of_date, pf_snapshot in daily_snapshots.items():\n",
    "    ctx = PricingContext(as_of_time=as_of_date, cash_treatment=CashTreatment.FIAT_PEGGED_STABLECOINS, base_currency_id=usd_asset_id)\n",
    "    legacy_portfolio = api.portfolio().to_legacy_portfolio(pf_snapshot)\n",
    "    pf_net_delta_results[as_of_date] = api.valuation().compute_portfolio_net_delta_value(ctx, legacy_portfolio)\n",
    "pf_net_delta_results"
   ]
  },
  {
   "cell_type": "markdown",
   "id": "355cc7bf",
   "metadata": {},
   "source": [
    "## Run Portfolio Valuation from result of Net-Delta"
   ]
  },
  {
   "cell_type": "code",
   "execution_count": null,
   "id": "6e6a47ee",
   "metadata": {},
   "outputs": [],
   "source": [
    "from serenity_sdk.types.common import Portfolio\n",
    "\n",
    "# run portfolio valuation for each net delta-ed positions\n",
    "pf_valuation_results = {}\n",
    "for as_of_date, net_delta_pos in pf_net_delta_results.items():\n",
    "    ctx = PricingContext(as_of_time=as_of_date, cash_treatment=CashTreatment.FIAT_PEGGED_STABLECOINS, base_currency_id=usd_asset_id)\n",
    "    net_delta_pf = Portfolio({a.asset_id: a.quantity for a in net_delta_pos.net_delta_asset_positions})\n",
    "    pf_valuation_results[as_of_date] = api.valuation().compute_portfolio_value(ctx, net_delta_pf)\n",
    "pf_valuation_results"
   ]
  }
 ],
 "metadata": {
  "kernelspec": {
   "display_name": ".venv",
   "language": "python",
   "name": "python3"
  },
  "language_info": {
   "codemirror_mode": {
    "name": "ipython",
    "version": 3
   },
   "file_extension": ".py",
   "mimetype": "text/x-python",
   "name": "python",
   "nbconvert_exporter": "python",
   "pygments_lexer": "ipython3",
   "version": "3.8.16"
  },
  "vscode": {
   "interpreter": {
    "hash": "da01d933f08a19496ff2bc47bee57d1aad5a98d2dadc2d94c49482637001ed3b"
   }
  }
 },
 "nbformat": 4,
 "nbformat_minor": 5
}
