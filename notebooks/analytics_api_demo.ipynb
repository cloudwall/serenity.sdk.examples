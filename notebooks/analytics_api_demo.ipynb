{
 "cells": [
  {
   "cell_type": "markdown",
   "metadata": {},
   "source": [
    "# Demo: Serenity Portfolio Analytics API\n",
    "\n",
    "Basic demonstration of how to run portfolio performance statistics and Brinson attribution on a rich portfolio."
   ]
  },
  {
   "cell_type": "markdown",
   "metadata": {},
   "source": [
    "## Setup"
   ]
  },
  {
   "cell_type": "code",
   "execution_count": null,
   "metadata": {},
   "outputs": [],
   "source": [
    "%%capture --no-stderr --no-display\n",
    "%load_ext autoreload\n",
    "%autoreload 2"
   ]
  },
  {
   "cell_type": "code",
   "execution_count": null,
   "metadata": {},
   "outputs": [],
   "source": [
    "from os import getenv\n",
    "from serenity_sdk.widgets import ConnectWidget\n",
    "\n",
    "# if you want to auto-connect, set this environment variable to your desired default\n",
    "connect_widget = ConnectWidget(getenv('SERENITY_CONFIG_ID', None))"
   ]
  },
  {
   "cell_type": "code",
   "execution_count": null,
   "metadata": {},
   "outputs": [],
   "source": [
    "from datetime import datetime\n",
    "\n",
    "import matplotlib.pyplot as plt\n",
    "import pandas as pd\n",
    "import seaborn as sns\n",
    "\n",
    "# set Seaborn style\n",
    "sns.set(style=\"whitegrid\")\n",
    "\n",
    "# create an alias to the api\n",
    "api = connect_widget.get_api()"
   ]
  },
  {
   "cell_type": "code",
   "execution_count": null,
   "metadata": {},
   "outputs": [],
   "source": [
    "from serenity_types.valuation.core import (\n",
    "    AssetPosition,\n",
    "    AssetWeight,\n",
    "    BrinsonAttributionRequest,\n",
    "    PortfolioAnalyticRequest,\n",
    "    PortfolioFromAllocationRequest,\n",
    "    PortfolioFromTradesRequest,\n",
    "    PortfolioTimeseriesAndTrades,\n",
    "    PositionTimeseries,\n",
    "    RebalancingFrequency,\n",
    "    Trades,\n",
    "    Transfers\n",
    ")\n",
    "\n",
    "asset_master = api.refdata().load_asset_master()\n",
    "btc_asset_id = asset_master.get_asset_id_by_symbol('BTC')\n",
    "eth_asset_id = asset_master.get_asset_id_by_symbol('ETH')"
   ]
  },
  {
   "cell_type": "markdown",
   "metadata": {},
   "source": [
    "## Creating portfolios\n",
    "\n",
    "The new portfolio analytics API supports a much richer representation of portfolios, and has helper mechanisms that let you create portfolios from different types of inputs:\n",
    "\n",
    "- initial cash position plus asset allocation rules\n",
    "- initial positions, trades and transfers"
   ]
  },
  {
   "cell_type": "markdown",
   "metadata": {},
   "source": [
    "### From allocations\n",
    "\n",
    "In the first case you \"trade\" an initial cash position by periodically rebalancing the portfolio so the percentage weights are preserved. In the second case you start with a set of asset positions, possibly empty, and trade and transfer assets in and out, updating positions over time. In both cases the output will be timeseries of positions and trades."
   ]
  },
  {
   "cell_type": "code",
   "execution_count": null,
   "metadata": {},
   "outputs": [],
   "source": [
    "request = PortfolioFromAllocationRequest(\n",
    "    initial_weights=[ AssetWeight(asset_id=btc_asset_id, weight=0.5),\n",
    "                      AssetWeight(asset_id=eth_asset_id, weight=0.5) ],\n",
    "    initial_cash_quantity=1_000_000,\n",
    "    start_datetime=datetime(2022, 1, 1, 0, 0, 0),\n",
    "    end_datetime=datetime(2022, 12, 31, 0, 0, 0),\n",
    "    rebalancing_frequency=RebalancingFrequency.DAILY\n",
    ")\n",
    "resp_obj = api.portfolio_analytics().create_portfolio_from_allocation(request)\n",
    "result = resp_obj.result\n",
    "asset1 = asset_master.get_symbol_by_id(result.positions.asset_id[0], symbology='SERENITY')\n",
    "asset2 = asset_master.get_symbol_by_id(result.positions.asset_id[1], symbology='SERENITY')\n",
    "df = pd.DataFrame(result.positions.quantity, columns=[asset1, asset2])\n",
    "df['As Of Time'] = pd.to_datetime(result.positions.as_of_time)\n",
    "df.set_index('As Of Time', inplace=True)\n",
    "\n",
    "# Create a line chart using Seaborn\n",
    "plt.figure(figsize=(10, 6))\n",
    "sns.lineplot(data=df, markers=True)\n",
    "\n",
    "# Set labels and title\n",
    "plt.title('Index Composition')\n",
    "\n",
    "# Show the plot\n",
    "plt.show()\n"
   ]
  },
  {
   "cell_type": "markdown",
   "metadata": {},
   "source": [
    "### From trades\n",
    "\n",
    "This variation creates a portfolio from several different combinations of inputs:\n",
    "\n",
    "- positions, no trades or transfers: this takes current positions back through time, held constant\n",
    "- positions, with trades and transfers: this builds up a portoflio over time from transactions"
   ]
  },
  {
   "cell_type": "code",
   "execution_count": null,
   "metadata": {},
   "outputs": [],
   "source": [
    "trades = Trades(\n",
    "    trade_datetime=[],\n",
    "    base_asset_id=[],\n",
    "    quote_asset_id=[],\n",
    "    quantity=[],\n",
    "    fill_price=[],\n",
    "    commission_in_usd=[]\n",
    ")\n",
    "transfers = Transfers(\n",
    "    transfer_datetime=[],\n",
    "    asset_id=[],\n",
    "    quantity=[]\n",
    ")\n",
    "request = PortfolioFromTradesRequest(\n",
    "    initial_positions=[ AssetPosition(asset_id=btc_asset_id, quantity=1),\n",
    "                        AssetPosition(asset_id=eth_asset_id, quantity=10) ],\n",
    "    start_datetime=datetime(2022, 1, 1, 0, 0, 0),\n",
    "    end_datetime=datetime(2022, 12, 31, 0, 0, 0),\n",
    "    trades=trades,\n",
    "    transfers=transfers\n",
    ")\n",
    "resp_obj = api.portfolio_analytics().create_portfolio_from_trades(request)\n",
    "result = resp_obj.result"
   ]
  },
  {
   "cell_type": "markdown",
   "metadata": {},
   "source": [
    "## Computing performance statistics"
   ]
  },
  {
   "cell_type": "code",
   "execution_count": null,
   "metadata": {},
   "outputs": [],
   "source": [
    "try:\n",
    "    positions = PositionTimeseries(as_of_time=[], asset_id=[], quantity=[])\n",
    "    portfolio = PortfolioTimeseriesAndTrades(positions=positions)\n",
    "    request = PortfolioAnalyticRequest(portfolio=portfolio)\n",
    "\n",
    "    api.portfolio_analytics().compute_portfolio_statistics(request)\n",
    "except:\n",
    "    print(\"Not yet ready\")\n"
   ]
  },
  {
   "cell_type": "markdown",
   "metadata": {},
   "source": [
    "## Computing performance attribution (Brinson)"
   ]
  },
  {
   "cell_type": "code",
   "execution_count": null,
   "metadata": {},
   "outputs": [],
   "source": [
    "try:\n",
    "    positions = PositionTimeseries(as_of_time=[], asset_id=[], quantity=[])\n",
    "    portfolio = PortfolioTimeseriesAndTrades(positions=positions)\n",
    "    request = BrinsonAttributionRequest(portfolio=portfolio)\n",
    "\n",
    "    api.portfolio_analytics().compute_portfolio_performance_attribution(request)\n",
    "except:\n",
    "    print(\"Not yet ready\")"
   ]
  }
 ],
 "metadata": {
  "kernelspec": {
   "display_name": ".venv",
   "language": "python",
   "name": "python3"
  },
  "language_info": {
   "codemirror_mode": {
    "name": "ipython",
    "version": 3
   },
   "file_extension": ".py",
   "mimetype": "text/x-python",
   "name": "python",
   "nbconvert_exporter": "python",
   "pygments_lexer": "ipython3",
   "version": "3.8.16"
  },
  "orig_nbformat": 4
 },
 "nbformat": 4,
 "nbformat_minor": 2
}
