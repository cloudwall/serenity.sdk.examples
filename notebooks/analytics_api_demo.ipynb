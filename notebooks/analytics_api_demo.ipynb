{
 "cells": [
  {
   "cell_type": "markdown",
   "metadata": {},
   "source": [
    "# Demo: Serenity Portfolio Analytics API\n",
    "\n",
    "Basic demonstration of how to run portfolio performance statistics and Brinson attribution on a rich portfolio."
   ]
  },
  {
   "cell_type": "markdown",
   "metadata": {},
   "source": [
    "## Setup"
   ]
  },
  {
   "cell_type": "code",
   "execution_count": null,
   "metadata": {},
   "outputs": [],
   "source": [
    "%%capture --no-stderr --no-display\n",
    "%load_ext autoreload\n",
    "%autoreload 2"
   ]
  },
  {
   "cell_type": "code",
   "execution_count": null,
   "metadata": {},
   "outputs": [],
   "source": [
    "import os\n",
    "from serenity_sdk.widgets import ConnectWidget\n",
    "\n",
    "# if you want to auto-connect, set this environment variable to your desired default\n",
    "connect_widget = ConnectWidget(os.getenv('SERENITY_CONFIG_ID', None))"
   ]
  },
  {
   "cell_type": "code",
   "execution_count": null,
   "metadata": {},
   "outputs": [],
   "source": [
    "from datetime import datetime\n",
    "\n",
    "import matplotlib.pyplot as plt\n",
    "import pandas as pd\n",
    "import seaborn as sns\n",
    "\n",
    "# set Seaborn style\n",
    "sns.set(style=\"whitegrid\")\n",
    "\n",
    "# create an alias to the api\n",
    "api = connect_widget.get_api()"
   ]
  },
  {
   "cell_type": "code",
   "execution_count": null,
   "metadata": {},
   "outputs": [],
   "source": [
    "from serenity_types.valuation.core import (\n",
    "    AssetPosition,\n",
    "    AssetWeight,\n",
    "    PortfolioTimeseriesAndTrades,\n",
    "    PositionTimeseries,\n",
    "    RebalancingFrequency,\n",
    "    Trades,\n",
    "    Transfers,\n",
    "    CompoundingFrequencyInput, ReturnsType\n",
    ")\n",
    "from serenity_types.valuation.portfolio_analytic import (\n",
    "    BrinsonAttributionRequest,\n",
    "    PortfolioAnalyticRequest,\n",
    "    PortfolioFromAllocationRequest,\n",
    "    PortfolioFromTradesRequest,\n",
    "    PortfolioCompositionAndTrades, PortfolioComposition, CustomizedPortfolioComposition,\n",
    "    PortfolioByMetadataIdOrCompositionValue\n",
    ")\n",
    "from serenity_types.pricing.core import MarkTime\n",
    "\n",
    "asset_master = api.refdata().load_asset_master()\n",
    "btc_asset_id = asset_master.get_asset_id_by_symbol('BTC')\n",
    "eth_asset_id = asset_master.get_asset_id_by_symbol('ETH')\n",
    "ada_asset_id = asset_master.get_asset_id_by_symbol('ADA')\n",
    "bnb_asset_id = asset_master.get_asset_id_by_symbol('BNB')\n",
    "usdc_asset_id = asset_master.get_asset_id_by_symbol('USDC')\n",
    "usd_asset_id = asset_master.get_asset_id_by_symbol('USD')"
   ]
  },
  {
   "cell_type": "markdown",
   "metadata": {},
   "source": [
    "## Creating portfolios\n",
    "\n",
    "The new portfolio analytics API supports a much richer representation of portfolios, and has helper mechanisms that let you create portfolios from different types of inputs:\n",
    "\n",
    "- initial cash position plus asset allocation rules\n",
    "- initial positions, trades and transfers"
   ]
  },
  {
   "cell_type": "markdown",
   "metadata": {},
   "source": [
    "### From allocations\n",
    "\n",
    "In the first case you \"trade\" an initial cash position by periodically rebalancing the portfolio so the percentage weights are preserved. In the second case you start with a set of asset positions, possibly empty, and trade and transfer assets in and out, updating positions over time. In both cases the output will be timeseries of positions and trades."
   ]
  },
  {
   "cell_type": "code",
   "execution_count": null,
   "metadata": {},
   "outputs": [],
   "source": [
    "request = PortfolioFromAllocationRequest(\n",
    "    initial_weights = [\n",
    "        AssetWeight(asset_id=btc_asset_id, weight=0.4),\n",
    "        AssetWeight(asset_id=eth_asset_id, weight=0.3),\n",
    "        AssetWeight(asset_id=ada_asset_id, weight=0.2),\n",
    "        AssetWeight(asset_id=bnb_asset_id, weight=0.1)\n",
    "    ],\n",
    "    initial_cash_quantity=1_000_000,\n",
    "    start_datetime=datetime(2022, 1, 1, 0, 0, 0),\n",
    "    end_datetime=datetime(2022, 12, 31, 0, 0, 0),\n",
    "    rebalancing_frequency=RebalancingFrequency.DAILY\n",
    ")\n",
    "resp_obj = api.portfolio_analytics().create_portfolio_from_allocation(request)\n",
    "pf_from_allocation_result = resp_obj.result\n",
    "asset1 = asset_master.get_symbol_by_id(pf_from_allocation_result.positions.asset_ids[0], symbology='SERENITY')\n",
    "asset2 = asset_master.get_symbol_by_id(pf_from_allocation_result.positions.asset_ids[1], symbology='SERENITY')\n",
    "asset3 = asset_master.get_symbol_by_id(pf_from_allocation_result.positions.asset_ids[2], symbology='SERENITY')\n",
    "asset4 = asset_master.get_symbol_by_id(pf_from_allocation_result.positions.asset_ids[3], symbology='SERENITY')\n",
    "df = pd.DataFrame(pf_from_allocation_result.positions.quantities, columns=[asset1, asset2, asset3, asset4])\n",
    "df['As Of Time'] = pd.to_datetime(pf_from_allocation_result.positions.as_of_times)\n",
    "df.set_index('As Of Time', inplace=True)\n",
    "\n",
    "# Create a line chart using Seaborn\n",
    "plt.figure(figsize=(10, 6))\n",
    "sns.lineplot(data=df, markers=True)\n",
    "\n",
    "# Set labels and title\n",
    "plt.title('Index Composition')\n",
    "\n",
    "# Show the plot\n",
    "plt.show()"
   ]
  },
  {
   "cell_type": "markdown",
   "metadata": {},
   "source": [
    "### From trades\n",
    "\n",
    "This variation creates a portfolio from several different combinations of inputs:\n",
    "\n",
    "- positions, no trades or transfers: this takes current positions back through time, held constant\n",
    "- positions, with trades and transfers: this builds up a portoflio over time from transactions"
   ]
  },
  {
   "cell_type": "code",
   "execution_count": null,
   "metadata": {},
   "outputs": [],
   "source": [
    "trades = Trades(\n",
    "    trade_datetime=[datetime(2022, 1, 2, 0, 0, 0)],\n",
    "    base_asset_id=[btc_asset_id],\n",
    "    quote_asset_id=[usdc_asset_id],\n",
    "    quantity=[2.5],\n",
    "    fill_price=[20000.1],\n",
    "    commission_in_usd=[3.0]\n",
    ")\n",
    "transfers = Transfers(\n",
    "    transfer_datetime=[datetime(2022, 1, 20, 0, 0, 0)],\n",
    "    asset_id=[eth_asset_id],\n",
    "    quantity=[5]\n",
    ")\n",
    "request = PortfolioFromTradesRequest(\n",
    "    initial_positions=[ AssetPosition(asset_id=btc_asset_id, quantity=1),\n",
    "                        AssetPosition(asset_id=eth_asset_id, quantity=10) ],\n",
    "    start_datetime=datetime(2022, 1, 1, 0, 0, 0),\n",
    "    end_datetime=datetime(2022, 12, 31, 0, 0, 0),\n",
    "    trades=trades,\n",
    "    transfers=transfers\n",
    ")\n",
    "resp_obj = api.portfolio_analytics().create_portfolio_from_trades(request)\n",
    "pf_from_trades_result = resp_obj.result\n",
    "\n",
    "assets = [ asset_master.get_symbol_by_id(x, symbology='SERENITY') if x != usd_asset_id else \"USD\" for x in pf_from_trades_result.positions.asset_ids ]\n",
    "df = pd.DataFrame(pf_from_trades_result.positions.quantities, columns=assets)\n",
    "df['As Of Time'] = pd.to_datetime(pf_from_trades_result.positions.as_of_times)\n",
    "df.set_index('As Of Time', inplace=True)\n",
    "\n",
    "# Create a line chart using Seaborn\n",
    "plt.figure(figsize=(10, 6))\n",
    "sns.lineplot(data=df.drop([\"tok.usdc.ethereum\", \"USD\"], axis=1), markers=True)\n",
    "\n",
    "# Set labels and title\n",
    "plt.title('Position History')\n",
    "\n",
    "# Show the plot\n",
    "plt.show()"
   ]
  },
  {
   "cell_type": "markdown",
   "metadata": {},
   "source": [
    "## Creating Benchmarks\n",
    "\n",
    "Create benchmarks the same way as creating portfolios"
   ]
  },
  {
   "cell_type": "markdown",
   "metadata": {},
   "source": [
    "### Benchmark 1 - Specify by quantity"
   ]
  },
  {
   "cell_type": "code",
   "execution_count": null,
   "metadata": {},
   "outputs": [],
   "source": [
    "request = PortfolioFromAllocationRequest(\n",
    "    initial_weights = [\n",
    "        AssetWeight(asset_id=btc_asset_id, weight=0.7),\n",
    "        AssetWeight(asset_id=eth_asset_id, weight=0.3),\n",
    "    ],\n",
    "    initial_cash_quantity=1_000_000,\n",
    "    start_datetime=datetime(2022, 1, 1, 0, 0, 0),\n",
    "    end_datetime=datetime(2022, 12, 31, 0, 0, 0),\n",
    "    rebalancing_frequency=RebalancingFrequency.DAILY\n",
    ")\n",
    "resp_obj = api.portfolio_analytics().create_portfolio_from_allocation(request)\n",
    "bm1_by_quantity = resp_obj.result.positions.dict()"
   ]
  },
  {
   "cell_type": "markdown",
   "metadata": {},
   "source": [
    "### Benchmark 2 - Specify by weight"
   ]
  },
  {
   "cell_type": "code",
   "execution_count": null,
   "metadata": {},
   "outputs": [],
   "source": [
    "from copy import deepcopy\n",
    "\n",
    "bm2_by_weight = deepcopy(bm1_by_quantity)\n",
    "bm2_by_weight['weights'] = [[0.7, 0.3]] * len(bm2_by_weight['as_of_times'])\n",
    "bm2_by_weight['quantities'] = None"
   ]
  },
  {
   "cell_type": "markdown",
   "metadata": {},
   "source": [
    "### Benchmark 3 - Specify by weight, custom asset id, and custom prices"
   ]
  },
  {
   "cell_type": "code",
   "execution_count": null,
   "metadata": {},
   "outputs": [],
   "source": [
    "import random\n",
    "\n",
    "bm3_by_weight_custom_asset_prices = deepcopy(bm2_by_weight)\n",
    "bm3_by_weight_custom_asset_prices['transient_asset_ids'] = ['my eth id', 'my btc id']\n",
    "bm3_by_weight_custom_asset_prices['prices'] = [\n",
    "    [1900 * random.uniform(1, 1.2), 30000 * random.uniform(1, 1.2)]\n",
    "    for i in range(len(bm3_by_weight_custom_asset_prices['as_of_times']))\n",
    "]\n",
    "del bm3_by_weight_custom_asset_prices['asset_ids']"
   ]
  },
  {
   "cell_type": "markdown",
   "metadata": {},
   "source": [
    "## Computing performance statistics"
   ]
  },
  {
   "cell_type": "code",
   "execution_count": null,
   "metadata": {},
   "outputs": [],
   "source": [
    "pf_trades_and_transfers = PortfolioCompositionAndTrades(\n",
    "    portfolio_composition=PortfolioByMetadataIdOrCompositionValue(\n",
    "        positions=PortfolioComposition(**pf_from_allocation_result.positions.dict())\n",
    "    ),\n",
    "    trades=pf_from_allocation_result.trades,\n",
    "    transfers=None\n",
    ")\n",
    "sim_trades = Trades(\n",
    "    trade_datetime=[datetime(2022, 1, 10, 0, 0, 0)],\n",
    "    base_asset_id=[btc_asset_id],\n",
    "    quote_asset_id=[usdc_asset_id],\n",
    "    quantity=[-5],\n",
    "    fill_price=[20100.5],\n",
    "    commission_in_usd=[6.0]\n",
    ")\n",
    "request = PortfolioAnalyticRequest(\n",
    "    portfolio=pf_trades_and_transfers,\n",
    "    benchmarks={\n",
    "        \"bm1_by_quantity\": PortfolioByMetadataIdOrCompositionValue(\n",
    "            positions=PortfolioComposition(**bm1_by_quantity)\n",
    "        ),\n",
    "        \"bm2_by_weight\": PortfolioByMetadataIdOrCompositionValue(\n",
    "            positions=PortfolioComposition(**bm2_by_weight)\n",
    "        ),\n",
    "        \"bm3_by_weight_custom_asset_prices\": PortfolioByMetadataIdOrCompositionValue(\n",
    "            positions=CustomizedPortfolioComposition(**bm3_by_weight_custom_asset_prices)\n",
    "        ),\n",
    "    },\n",
    "    simulated_trades=sim_trades,\n",
    "    mark_time=MarkTime.UTC,\n",
    "    compounding_frequency=CompoundingFrequencyInput.DAILY,\n",
    "    returns_type=ReturnsType.SIMPLE\n",
    ")\n",
    "\n",
    "resp_performance = api.risk_analytics().compute_portfolio_statistics(request)"
   ]
  },
  {
   "cell_type": "markdown",
   "metadata": {},
   "source": [
    "## Computing performance attribution (Brinson)"
   ]
  },
  {
   "cell_type": "code",
   "execution_count": null,
   "metadata": {},
   "outputs": [],
   "source": [
    "pf_trades_and_transfers = PortfolioCompositionAndTrades(\n",
    "    portfolio_composition=PortfolioByMetadataIdOrCompositionValue(\n",
    "        positions=PortfolioComposition(**pf_from_allocation_result.positions.dict())\n",
    "    ),\n",
    "    trades=pf_from_allocation_result.trades,\n",
    "    transfers=None\n",
    ")\n",
    "sim_trades = Trades(\n",
    "    trade_datetime=[datetime(2022, 1, 10, 0, 0, 0)],\n",
    "    base_asset_id=[btc_asset_id],\n",
    "    quote_asset_id=[usdc_asset_id],\n",
    "    quantity=[-5],\n",
    "    fill_price=[10100.5],\n",
    "    commission_in_usd=[6.0]\n",
    ")\n",
    "request = BrinsonAttributionRequest(\n",
    "    portfolio=pf_trades_and_transfers,\n",
    "    benchmarks={\n",
    "        \"bm1_by_quantity\": PortfolioByMetadataIdOrCompositionValue(\n",
    "            positions=PortfolioComposition(**bm1_by_quantity)\n",
    "        ),\n",
    "        \"bm2_by_weight\": PortfolioByMetadataIdOrCompositionValue(\n",
    "            positions=PortfolioComposition(**bm2_by_weight)\n",
    "        ),\n",
    "        \"bm3_by_weight_custom_asset_prices\": PortfolioByMetadataIdOrCompositionValue(\n",
    "            positions=CustomizedPortfolioComposition(**bm3_by_weight_custom_asset_prices)\n",
    "        ),\n",
    "    },\n",
    "    simulated_trades=sim_trades,\n",
    "    mark_time=MarkTime.UTC,\n",
    "    compounding_frequency=CompoundingFrequencyInput.DAILY,\n",
    "    returns_type=ReturnsType.SIMPLE\n",
    ")\n",
    "\n",
    "resp_attribtuion = api.risk_analytics().compute_portfolio_performance_attribution(request)"
   ]
  }
 ],
 "metadata": {
  "kernelspec": {
   "display_name": "Python 3 (ipykernel)",
   "language": "python",
   "name": "python3"
  },
  "language_info": {
   "codemirror_mode": {
    "name": "ipython",
    "version": 3
   },
   "file_extension": ".py",
   "mimetype": "text/x-python",
   "name": "python",
   "nbconvert_exporter": "python",
   "pygments_lexer": "ipython3",
   "version": "3.8.16"
  }
 },
 "nbformat": 4,
 "nbformat_minor": 4
}
