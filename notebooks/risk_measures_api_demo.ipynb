{
 "cells": [
  {
   "attachments": {},
   "cell_type": "markdown",
   "metadata": {},
   "source": [
    "# DEMO: Serenity Risk Measures API\n",
    "\n",
    "In this demo notebook we describe one possible use case of the risk-measure interface: approximating the optimal hedge quantity for a given portfolio.\n",
    "\n",
    "We assume the portfolio to be composed only by Bitcoin and Ether and we use a short dated put option for our hedge. We will use a bitcoin option to hedge both positions "
   ]
  },
  {
   "cell_type": "code",
   "execution_count": null,
   "metadata": {},
   "outputs": [],
   "source": [
    "%%capture --no-stderr --no-display\n",
    "%load_ext autoreload\n",
    "%autoreload 2"
   ]
  },
  {
   "cell_type": "code",
   "execution_count": null,
   "metadata": {},
   "outputs": [],
   "source": [
    "\n",
    "# Standard imports\n",
    "from datetime import datetime\n",
    "from os import getenv\n",
    "from uuid import UUID\n",
    "from uuid import uuid4\n",
    "\n",
    "# External packages\n",
    "import pandas as pd\n",
    "import matplotlib.pyplot as plt\n",
    "\n",
    "# Serenity imports\n",
    "from serenity_sdk.widgets import ConnectWidget\n",
    "from serenity_sdk.renderers.derivatives.widget_tools import OptionChooser\n",
    "from serenity_sdk.types.common import Portfolio\n",
    "\n",
    "from serenity_types.portfolio.core import AssetPosition\n",
    "from serenity_types.pricing.derivatives.options.valuation import OptionValuation, OptionValuationRequest\n",
    "from serenity_types.refdata.options import OptionType\n",
    "from serenity_types.risk import measures as risk_measures\n",
    "from serenity_sdk.types.measures import RiskMeasureContext"
   ]
  },
  {
   "cell_type": "code",
   "execution_count": null,
   "metadata": {},
   "outputs": [],
   "source": [
    "# if you want to auto-connect, set this environment variable to your desired default\n",
    "connect_widget = ConnectWidget(getenv('SERENITY_CONFIG_ID', None))"
   ]
  },
  {
   "attachments": {},
   "cell_type": "markdown",
   "metadata": {},
   "source": [
    "### Parameters"
   ]
  },
  {
   "cell_type": "code",
   "execution_count": null,
   "metadata": {},
   "outputs": [],
   "source": [
    "# Portfolio parameters\n",
    "\n",
    "from math import e\n",
    "\n",
    "\n",
    "bitcoin_name = \"Bitcoin\"\n",
    "bitcoin_id = \"78e2e8e2-419d-4515-9b6a-3d5ff1448e89\" # This is Bitcoin\n",
    "bitcoin_quantity = 1.0\n",
    "bitcoin_price = 25000.0\n",
    "\n",
    "ether_name = \"Ether\"\n",
    "ether_id = \"95b89dfd-c5f6-41d6-83c6-a9d97e0ac361\" # This is Ether\n",
    "ether_quantity = bitcoin_quantity * 4.0\n",
    "ether_price = 1700.0\n",
    "\n",
    "option_name = \"Put Option\"\n",
    "option_initial_quantity = 0.2\n",
    "\n",
    "# We want to hedge against this specific risk measure\n",
    "target_measure_tag=\"CVaR 95%\"\n",
    "\n",
    "# Chart and format parameters\n",
    "figsize=(9, 4)\n",
    "currency_format = '{:,.2f} $'.format\n",
    "percent_format = '{:,.2%}'.format\n",
    "pct_formatter = plt.FuncFormatter(lambda x, loc: percent_format(x))"
   ]
  },
  {
   "cell_type": "code",
   "execution_count": null,
   "metadata": {},
   "outputs": [],
   "source": [
    "# We use the current time\n",
    "as_of_datetime = datetime.utcnow()\n",
    "\n",
    "as_of_datetime"
   ]
  },
  {
   "cell_type": "code",
   "execution_count": null,
   "metadata": {},
   "outputs": [],
   "source": [
    "# Risk measure parameters\n",
    "\n",
    "measures = [\n",
    "    risk_measures.MeasureParameters(\n",
    "        tag=\"CVaR 99%\",\n",
    "        measure_type=risk_measures.MeasureType.CVAR,\n",
    "        confidence_level=\"0.99\",\n",
    "    ),\n",
    "    risk_measures.MeasureParameters(\n",
    "        tag=\"VaR 99%\",\n",
    "        measure_type=risk_measures.MeasureType.VAR,\n",
    "        confidence_level=\"0.99\",\n",
    "    ),\n",
    "    risk_measures.MeasureParameters(\n",
    "        tag=target_measure_tag,\n",
    "        measure_type=risk_measures.MeasureType.CVAR,\n",
    "        confidence_level=\"0.95\",\n",
    "    ),\n",
    "    risk_measures.MeasureParameters(\n",
    "        tag=\"Downside Dev\",\n",
    "        measure_type=risk_measures.MeasureType.DOWNDEV,\n",
    "    ),\n",
    "    risk_measures.MeasureParameters(\n",
    "        tag=\"Standard Dev\",\n",
    "        measure_type=risk_measures.MeasureType.STDEV,\n",
    "    ),\n",
    "    risk_measures.MeasureParameters(\n",
    "        tag=\"Upside Dev\",\n",
    "        measure_type=risk_measures.MeasureType.UPDEV,\n",
    "    ),\n",
    "    risk_measures.MeasureParameters(\n",
    "        tag=\"CGaR 95%\",\n",
    "        measure_type=risk_measures.MeasureType.CGAR,\n",
    "        confidence_level=\"0.95\",\n",
    "    ),\n",
    "    risk_measures.MeasureParameters(\n",
    "        tag=\"GaR 99%\",\n",
    "        measure_type=risk_measures.MeasureType.GAR,\n",
    "        confidence_level=\"0.99\",\n",
    "    ),\n",
    "    risk_measures.MeasureParameters(\n",
    "        tag=\"CGaR 99%\",\n",
    "        measure_type=risk_measures.MeasureType.CGAR,\n",
    "        confidence_level=\"0.99\",\n",
    "    ),\n",
    "]\n",
    "\n",
    "\n",
    "risk_computation_request = risk_measures.RiskComputationRequest(\n",
    "    lookback_days=365, sampling_hours=1, horizon_scale=\"24.0\", measures=measures\n",
    ")\n",
    "\n",
    "# We split risk measures into two groups: dispersion and concentration\n",
    "dispersion_tags = [\"Standard Dev\", \"Downside Dev\", \"Upside Dev\"]\n",
    "concetration_tags = [\"VaR 99%\", \"CVaR 99%\", \"GaR 99%\", \"CGaR 99%\"]"
   ]
  },
  {
   "cell_type": "code",
   "execution_count": null,
   "metadata": {},
   "outputs": [],
   "source": [
    "\n",
    "api = connect_widget.api"
   ]
  },
  {
   "attachments": {},
   "cell_type": "markdown",
   "metadata": {},
   "source": [
    "## Choose the relevant put option"
   ]
  },
  {
   "cell_type": "code",
   "execution_count": null,
   "metadata": {},
   "outputs": [],
   "source": [
    "# First we select all available options\n",
    "option_chooser = OptionChooser(api)\n",
    "\n",
    "listed_options = option_chooser.data\n",
    "\n",
    "listed_options.head(3)"
   ]
  },
  {
   "cell_type": "code",
   "execution_count": null,
   "metadata": {},
   "outputs": [],
   "source": [
    "# We select only Bitcoin put options\n",
    "bitcoin_put_options = listed_options[\n",
    "    (listed_options[\"underlier_asset_id\"] == UUID(bitcoin_id))\n",
    "    & (option_chooser.data[\"option_type\"] == OptionType.PUT)\n",
    "]\n",
    "\n",
    "bitcoin_put_options.head(3)"
   ]
  },
  {
   "cell_type": "code",
   "execution_count": null,
   "metadata": {},
   "outputs": [],
   "source": [
    "# Then we choose the mid-maturity options\n",
    "\n",
    "expiry_datetimes = sorted(bitcoin_put_options[\"expiry_datetime\"].unique())\n",
    "\n",
    "# Let's make sure that we have enough option expiries\n",
    "assert len(expiry_datetimes) >= 3\n",
    "\n",
    "# We choose the first third of the expiries\n",
    "choosen_expiry = expiry_datetimes[int(len(expiry_datetimes)/3)]\n",
    "\n",
    "choosen_expiry"
   ]
  },
  {
   "cell_type": "code",
   "execution_count": null,
   "metadata": {},
   "outputs": [],
   "source": [
    "# Then we look for the mid strike \n",
    "term_options = bitcoin_put_options[bitcoin_put_options[\"expiry_datetime\"] == choosen_expiry]\n",
    "\n",
    "strike_prices = sorted(term_options[\"strike_price\"].unique())\n",
    "\n",
    "# Let's make sure that we have enough strike prices\n",
    "assert len(strike_prices) >= 3\n",
    "\n",
    "choosen_strike = strike_prices[int(len(strike_prices)/2)]\n",
    "\n",
    "choosen_strike"
   ]
  },
  {
   "cell_type": "code",
   "execution_count": null,
   "metadata": {},
   "outputs": [],
   "source": [
    "# Finally we select the option, as the first option with the choosen strike price and expiry\n",
    "\n",
    "selected_option = term_options[term_options[\"strike_price\"] == choosen_strike].iloc[0]\n",
    "\n",
    "selected_option"
   ]
  },
  {
   "cell_type": "code",
   "execution_count": null,
   "metadata": {},
   "outputs": [],
   "source": [
    "option_id = str(selected_option[\"asset_id\"])\n",
    "\n",
    "option_id"
   ]
  },
  {
   "attachments": {},
   "cell_type": "markdown",
   "metadata": {},
   "source": [
    "## Compute risk and components for the initial portfolio"
   ]
  },
  {
   "attachments": {},
   "cell_type": "markdown",
   "metadata": {},
   "source": [
    "### Create the hedged portfolio"
   ]
  },
  {
   "cell_type": "code",
   "execution_count": null,
   "metadata": {},
   "outputs": [],
   "source": [
    "# The default option valuation object\n",
    "\n",
    "\n",
    "the_default_optval = OptionValuation(\n",
    "    valuation_id=str(uuid4()), qty=1, option_asset_id=UUID(option_id)\n",
    ")\n",
    "opt_val_res = api.pricer().compute_option_valuations(\n",
    "    request=OptionValuationRequest(\n",
    "        as_of_time=as_of_datetime, discounting_method=\"CURVE\",\n",
    "        options=[the_default_optval])\n",
    ")\n",
    "\n",
    "opt_val_res"
   ]
  },
  {
   "cell_type": "code",
   "execution_count": null,
   "metadata": {},
   "outputs": [],
   "source": [
    "option_pv = opt_val_res[0].pv\n",
    "\n",
    "option_pv"
   ]
  },
  {
   "cell_type": "code",
   "execution_count": null,
   "metadata": {},
   "outputs": [],
   "source": [
    "portfolio_1_value = bitcoin_quantity * bitcoin_price + ether_quantity * ether_price + option_initial_quantity * option_pv\n",
    "\n",
    "portfolio_1_value"
   ]
  },
  {
   "cell_type": "code",
   "execution_count": null,
   "metadata": {},
   "outputs": [],
   "source": [
    "portfolio_1 = Portfolio(\n",
    "    assets={\n",
    "        UUID(bitcoin_id): bitcoin_quantity,         # Bitcoin\n",
    "        UUID(ether_id): ether_quantity,             # Ether\n",
    "        UUID(option_id): option_initial_quantity,    # Put option\n",
    "    }\n",
    ")"
   ]
  },
  {
   "cell_type": "code",
   "execution_count": null,
   "metadata": {},
   "outputs": [],
   "source": [
    "ctx = RiskMeasureContext(\n",
    "    request=risk_computation_request,\n",
    "    as_of_time=as_of_datetime,\n",
    ")\n",
    "risk_response_1 = api.risk().compute_risk_measures(ctx, portfolio_1)"
   ]
  },
  {
   "attachments": {},
   "cell_type": "markdown",
   "metadata": {},
   "source": [
    "### Show risk, the P&L distribution and the risk components"
   ]
  },
  {
   "cell_type": "code",
   "execution_count": null,
   "metadata": {},
   "outputs": [],
   "source": [
    "# Cash risk measure values\n",
    "\n",
    "pd.Series(risk_response_1.portfolio.values).to_frame().applymap(currency_format)"
   ]
  },
  {
   "cell_type": "code",
   "execution_count": null,
   "metadata": {},
   "outputs": [],
   "source": [
    "portfolio_measures_1 = pd.Series(risk_response_1.portfolio.values)/portfolio_1_value\n",
    "portfolio_measures_1.name = \"Initial Portfolio\"\n",
    "\n",
    "\n",
    "portfolio_measures_1.to_frame().applymap(percent_format)"
   ]
  },
  {
   "cell_type": "code",
   "execution_count": null,
   "metadata": {},
   "outputs": [],
   "source": [
    "ax = portfolio_measures_1.plot.bar(figsize=figsize, title=\"Initial portfolio risk measures\")\n",
    "\n",
    "ax.yaxis.set_major_formatter(pct_formatter)"
   ]
  },
  {
   "attachments": {},
   "cell_type": "markdown",
   "metadata": {},
   "source": [
    "#### Plot the P&L distribution"
   ]
  },
  {
   "cell_type": "code",
   "execution_count": null,
   "metadata": {},
   "outputs": [],
   "source": [
    "plt.figure(figsize=figsize)\n",
    "measure_colors = [\"r\", \"g\", \"y\", \"k\"]\n",
    "plt.hist(risk_response_1.pnl_risk_scenarios, bins=200)\n",
    "for idx, (measure_name, measure_value) in enumerate(\n",
    "    pd.Series(risk_response_1.portfolio.values)[concetration_tags].items()\n",
    "):\n",
    "    sign_multiplier = 1 if \"GaR\" in measure_name else -1\n",
    "    plt.axvline(\n",
    "        sign_multiplier * measure_value,\n",
    "        color=measure_colors[idx],\n",
    "        linestyle=\"dashed\",\n",
    "        linewidth=1,\n",
    "        label=measure_name,\n",
    "    )\n",
    "plt.xlabel(\"PnL\")\n",
    "plt.title(\"Initial portfolio P&L distribution\")\n",
    "\n",
    "plt.legend()\n",
    "plt.show()"
   ]
  },
  {
   "attachments": {},
   "cell_type": "markdown",
   "metadata": {},
   "source": [
    "### Look at risk components\n",
    "\n",
    "While the components from Bitcoin and Ether are positive, the put option component is negative. \n",
    "This confirms that the put option can be used as portfolio hedge \n"
   ]
  },
  {
   "cell_type": "code",
   "execution_count": null,
   "metadata": {},
   "outputs": [],
   "source": [
    "risk_components_1 =pd.DataFrame({\n",
    "    str(component.asset_id): pd.Series(component.values) for component in risk_response_1.contributions\n",
    "}).rename(columns={bitcoin_id: bitcoin_name, ether_id: ether_name, option_id: option_name})\n",
    "\n",
    "risk_components_1.applymap(currency_format)\n"
   ]
  },
  {
   "attachments": {},
   "cell_type": "markdown",
   "metadata": {},
   "source": [
    "## Create a second portfolio with an improved hedge with respect to the chosen measure"
   ]
  },
  {
   "attachments": {},
   "cell_type": "markdown",
   "metadata": {},
   "source": [
    "### Compute the hedge ratios based on the risk componets"
   ]
  },
  {
   "cell_type": "code",
   "execution_count": null,
   "metadata": {},
   "outputs": [],
   "source": [
    "# We compute the sum of the Bitcoin and Ether components\n",
    "\n",
    "long_portfolio_component = risk_components_1[[bitcoin_name, ether_name]].sum(axis=\"columns\")\n",
    "long_portfolio_component.name = \"Long portfolio risk contribution\"\n",
    "\n",
    "long_portfolio_component.to_frame().applymap(currency_format)"
   ]
  },
  {
   "cell_type": "code",
   "execution_count": null,
   "metadata": {},
   "outputs": [],
   "source": [
    "hedge_ratios = -  long_portfolio_component.div(risk_components_1[option_name], axis=\"index\")\n",
    "hedge_ratios.name = \"Hedge ratios\"\n",
    "\n",
    "hedge_ratios.to_frame().applymap(lambda x: \"{:.2f}\".format(x))"
   ]
  },
  {
   "cell_type": "code",
   "execution_count": null,
   "metadata": {},
   "outputs": [],
   "source": [
    "hedge_ratios.plot.bar(figsize=figsize, title=\"Hedge ratios\")"
   ]
  },
  {
   "attachments": {},
   "cell_type": "markdown",
   "metadata": {},
   "source": [
    "## Create a second portfolio with improved hedge"
   ]
  },
  {
   "cell_type": "code",
   "execution_count": null,
   "metadata": {},
   "outputs": [],
   "source": [
    "revised_option_quantity = hedge_ratios[target_measure_tag] * option_initial_quantity\n",
    "\n",
    "revised_option_quantity"
   ]
  },
  {
   "cell_type": "code",
   "execution_count": null,
   "metadata": {},
   "outputs": [],
   "source": [
    "portfolio_2 = Portfolio(\n",
    "    assets={\n",
    "        UUID(bitcoin_id): bitcoin_quantity,         # Bitcoin\n",
    "        UUID(ether_id): ether_quantity,             # Ether\n",
    "        UUID(option_id): revised_option_quantity,    # Put option\n",
    "    }\n",
    ")"
   ]
  },
  {
   "cell_type": "code",
   "execution_count": null,
   "metadata": {},
   "outputs": [],
   "source": [
    "portfolio_2_value = bitcoin_quantity * bitcoin_price + ether_quantity * ether_price + revised_option_quantity * option_pv\n",
    "\n",
    "portfolio_2_value"
   ]
  },
  {
   "attachments": {},
   "cell_type": "markdown",
   "metadata": {},
   "source": [
    "#### Call the risk API for the revised portfolio"
   ]
  },
  {
   "cell_type": "code",
   "execution_count": null,
   "metadata": {},
   "outputs": [],
   "source": [
    "risk_response_2 = api.risk().compute_risk_measures(ctx, portfolio_2)"
   ]
  },
  {
   "cell_type": "code",
   "execution_count": null,
   "metadata": {},
   "outputs": [],
   "source": [
    "portfolio_measures_2 = pd.Series(risk_response_2.portfolio.values)/portfolio_1_value\n",
    "portfolio_measures_2.name = \"Revised Portfolio\"\n",
    "\n",
    "\n",
    "portfolio_measures_2.to_frame().applymap(percent_format)"
   ]
  },
  {
   "attachments": {},
   "cell_type": "markdown",
   "metadata": {},
   "source": [
    "#### We notice we now have a striking asymmetry between risk and upside"
   ]
  },
  {
   "cell_type": "code",
   "execution_count": null,
   "metadata": {},
   "outputs": [],
   "source": [
    "ax = portfolio_measures_2.plot.bar(figsize=figsize, title=\"Revised portfolio risk measures\")\n",
    "\n",
    "ax.yaxis.set_major_formatter(pct_formatter)"
   ]
  },
  {
   "attachments": {},
   "cell_type": "markdown",
   "metadata": {},
   "source": [
    "### Looking at the revised distribution"
   ]
  },
  {
   "cell_type": "code",
   "execution_count": null,
   "metadata": {},
   "outputs": [],
   "source": [
    "plt.figure(figsize=figsize)\n",
    "measure_colors = [\"r\", \"g\", \"y\", \"k\"]\n",
    "plt.hist(risk_response_2.pnl_risk_scenarios, bins=200)\n",
    "for idx, (measure_name, measure_value) in enumerate(\n",
    "    pd.Series(risk_response_2.portfolio.values)[concetration_tags].items()\n",
    "):\n",
    "    sign_multiplier = 1 if \"GaR\" in measure_name else -1\n",
    "    plt.axvline(\n",
    "        sign_multiplier * measure_value,\n",
    "        color=measure_colors[idx],\n",
    "        linestyle=\"dashed\",\n",
    "        linewidth=1,\n",
    "        label=measure_name,\n",
    "    )\n",
    "plt.xlabel(\"PnL\")\n",
    "plt.title(\"Revised portfolio P&L distribution\")\n",
    "\n",
    "plt.legend()\n",
    "plt.show()"
   ]
  },
  {
   "cell_type": "code",
   "execution_count": null,
   "metadata": {},
   "outputs": [],
   "source": []
  }
 ],
 "metadata": {
  "kernelspec": {
   "display_name": ".venv",
   "language": "python",
   "name": "python3"
  },
  "language_info": {
   "codemirror_mode": {
    "name": "ipython",
    "version": 3
   },
   "file_extension": ".py",
   "mimetype": "text/x-python",
   "name": "python",
   "nbconvert_exporter": "python",
   "pygments_lexer": "ipython3",
   "version": "3.8.10"
  },
  "orig_nbformat": 4
 },
 "nbformat": 4,
 "nbformat_minor": 2
}
