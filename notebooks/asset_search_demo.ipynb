{
 "cells": [
  {
   "attachments": {},
   "cell_type": "markdown",
   "metadata": {},
   "source": [
    "# Demo to show how to use the Asset Search API "
   ]
  },
  {
   "cell_type": "code",
   "execution_count": null,
   "metadata": {},
   "outputs": [],
   "source": [
    "%%capture --no-stderr --no-display\n",
    "%load_ext autoreload\n",
    "%autoreload 2"
   ]
  },
  {
   "cell_type": "code",
   "execution_count": null,
   "metadata": {},
   "outputs": [],
   "source": [
    "from os import getenv\n",
    "from serenity_sdk.widgets import ConnectWidget\n",
    "\n",
    "# if you want to auto-connect, set this environment variable to your desired default\n",
    "connect_widget = ConnectWidget(getenv(\"SERENITY_CONFIG_ID\", None))"
   ]
  },
  {
   "cell_type": "code",
   "execution_count": null,
   "metadata": {},
   "outputs": [],
   "source": [
    "import pandas as pd\n",
    "\n",
    "from serenity_sdk.renderers.asset_search.result_views import (\n",
    "    make_option_grid_df,\n",
    "    make_asset_symbol_df\n",
    ")\n",
    "from serenity_sdk.renderers.shared.utils import make_df_from_list\n",
    "\n",
    "from serenity_types.refdata.asset import AssetSearchRequest, AssetType\n",
    "from serenity_sdk.renderers.shared.simple_widgets import display_in_hbox\n",
    "\n",
    "api = connect_widget.api"
   ]
  },
  {
   "cell_type": "code",
   "execution_count": null,
   "metadata": {},
   "outputs": [],
   "source": [
    "# default display columns\n",
    "default_display_cols = [\"asset_id\", \"symbol\"]"
   ]
  },
  {
   "attachments": {},
   "cell_type": "markdown",
   "metadata": {},
   "source": [
    "## TOKENS"
   ]
  },
  {
   "cell_type": "code",
   "execution_count": null,
   "metadata": {},
   "outputs": [],
   "source": [
    "token_df = make_df_from_list(api.refdata().search_assets(\n",
    "    request=AssetSearchRequest(asset_types=[AssetType.TOKEN])\n",
    "))\n",
    "token_symbol_df = make_asset_symbol_df(token_df)\n",
    "display_in_hbox(token_symbol_df[default_display_cols].style)"
   ]
  },
  {
   "cell_type": "code",
   "execution_count": null,
   "metadata": {},
   "outputs": [],
   "source": [
    "# create a native symbol -> asset ID map for later use\n",
    "native_symbol_map = token_symbol_df[\"asset_id\"]\n",
    "native_symbol_map.head(2)"
   ]
  },
  {
   "attachments": {},
   "cell_type": "markdown",
   "metadata": {},
   "source": [
    "## Exchanges\n",
    "Get supported exchangs"
   ]
  },
  {
   "cell_type": "code",
   "execution_count": null,
   "metadata": {},
   "outputs": [],
   "source": [
    "exchange_map = pd.Series(api.refdata().get_exchanges())\n",
    "exchange_map"
   ]
  },
  {
   "attachments": {},
   "cell_type": "markdown",
   "metadata": {},
   "source": [
    "## Perpetuals\n",
    "\n",
    "Find perpetuals by exchange id"
   ]
  },
  {
   "cell_type": "code",
   "execution_count": null,
   "metadata": {},
   "outputs": [],
   "source": [
    "# set the exchange id\n",
    "exchange_id = exchange_map[\"bitmex\"] # binance, bitmex, deribit, okex\n",
    "\n",
    "perpetual_df = make_df_from_list(api.refdata().search_assets(\n",
    "    request=AssetSearchRequest(\n",
    "        asset_types=[AssetType.PERPETUAL], exchange_ids=[exchange_id]\n",
    "    )\n",
    "))\n",
    "perpetual_symbol_df = make_asset_symbol_df(perpetual_df)\n",
    "display_in_hbox(\n",
    "    perpetual_symbol_df[default_display_cols + [\"payoff_type\", \"contract_size\"]].style\n",
    ")"
   ]
  },
  {
   "attachments": {},
   "cell_type": "markdown",
   "metadata": {},
   "source": [
    "## Futures\n",
    "\n",
    "Find futures by exchange id"
   ]
  },
  {
   "cell_type": "code",
   "execution_count": null,
   "metadata": {},
   "outputs": [],
   "source": [
    "exchange_id = exchange_map[\"okex\"] # binance, bitmex, deribit, okex\n",
    "futures_df = make_df_from_list(api.refdata().search_assets(\n",
    "    request=AssetSearchRequest(\n",
    "        asset_types=[AssetType.FUTURE], exchange_ids=[exchange_id]\n",
    "    )\n",
    "))\n",
    "futures_symbol_df = make_asset_symbol_df(futures_df)\n",
    "display_in_hbox(\n",
    "    futures_symbol_df[default_display_cols + [\"payoff_type\", \"contract_size\"]].style\n",
    ")"
   ]
  },
  {
   "attachments": {},
   "cell_type": "markdown",
   "metadata": {},
   "source": [
    "## Options\n",
    "\n",
    "Find options by exchange & underlier id"
   ]
  },
  {
   "cell_type": "code",
   "execution_count": null,
   "metadata": {},
   "outputs": [],
   "source": [
    "# currently, only BTC & ETH are supported\n",
    "\n",
    "exchange_id = exchange_map[\"deribit\"]  # deribit, bybit, okex\n",
    "underlier_id = native_symbol_map[\"BTC\"]  # BTC, ETH\n",
    "\n",
    "option_df =  make_df_from_list(api.refdata().search_assets(\n",
    "    request=AssetSearchRequest(\n",
    "        asset_types=[AssetType.LISTED_OPTION],\n",
    "        underlier_assets=[underlier_id],\n",
    "        exchange_ids=[exchange_id],\n",
    "    )\n",
    "))\n",
    "option_grid_df = make_option_grid_df(option_df)\n",
    "display_in_hbox(option_grid_df.style, height=\"600px\")"
   ]
  },
  {
   "cell_type": "code",
   "execution_count": null,
   "metadata": {},
   "outputs": [],
   "source": [
    "option_symbol_df = make_asset_symbol_df(\n",
    "    option_df, [\"expiry_datetime\", \"strike_price\", \"option_type\"]\n",
    ")\n",
    "print(f\"number of options: {len(option_df)}\")\n",
    "display_in_hbox(option_df[default_display_cols + [\"contract_size\"]].style, height=\"600px\")"
   ]
  },
  {
   "attachments": {},
   "cell_type": "markdown",
   "metadata": {},
   "source": [
    "## Describe Assets\n",
    "\n",
    "Given asset id (uuid), get asset details"
   ]
  },
  {
   "cell_type": "code",
   "execution_count": null,
   "metadata": {},
   "outputs": [],
   "source": [
    "asset_ids = option_df[\"asset_id\"].to_list()[:3]\n",
    "asset_ids"
   ]
  },
  {
   "cell_type": "code",
   "execution_count": null,
   "metadata": {},
   "outputs": [],
   "source": [
    "asset_description_df = make_df_from_list(api.refdata().describe_assets(asset_ids))\n",
    "display_in_hbox(asset_description_df.style)"
   ]
  },
  {
   "attachments": {},
   "cell_type": "markdown",
   "metadata": {},
   "source": [
    "# END"
   ]
  }
 ],
 "metadata": {
  "kernelspec": {
   "display_name": ".venv",
   "language": "python",
   "name": "python3"
  },
  "language_info": {
   "codemirror_mode": {
    "name": "ipython",
    "version": 3
   },
   "file_extension": ".py",
   "mimetype": "text/x-python",
   "name": "python",
   "nbconvert_exporter": "python",
   "pygments_lexer": "ipython3",
   "version": "3.8.10"
  },
  "orig_nbformat": 4
 },
 "nbformat": 4,
 "nbformat_minor": 2
}
