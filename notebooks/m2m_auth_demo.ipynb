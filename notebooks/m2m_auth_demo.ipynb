{
 "cells": [
  {
   "cell_type": "markdown",
   "id": "b90bcbf6-a176-498b-b540-6891830c1bed",
   "metadata": {},
   "source": [
    "# Demo: How to use machine to machine (non interactive mode) authentication\n",
    "\n",
    "The purpose of this notebook is to demonstrate the use of machine-to-machine authentication (OAuth2 client credential flow) with the Serenity SDK.\n",
    "\n",
    "The expectation is that users will store their credentials securely and then provide them to the SDK to facilitate the authentication process."
   ]
  },
  {
   "cell_type": "code",
   "execution_count": null,
   "id": "1f81870d-1e41-41b3-acd0-56bc6b13a3e7",
   "metadata": {},
   "outputs": [],
   "source": [
    "%%capture --no-stderr --no-display\n",
    "%load_ext autoreload\n",
    "%autoreload 2"
   ]
  },
  {
   "cell_type": "markdown",
   "id": "78ea1cbf",
   "metadata": {},
   "source": [
    "An App Token (used for logging into Serenity's API) can be generated through the Serenity UI \n",
    "(available at https://serenity.$client.cloudwall.network, replacing $client with the ID assigned to your organization)\n",
    "\n",
    "Once you've logged in, on the **top right** of the page:\n",
    "1. Click on your initials and select \"API Access\" from the dropdown menu.\n",
    "2. Then click on 'App Token' and follow the instructions on the page to generate your token."
   ]
  },
  {
   "cell_type": "code",
   "execution_count": null,
   "id": "1b4c2f32",
   "metadata": {},
   "outputs": [],
   "source": [
    "def load_secure_config():\n",
    "    # The demonstration code here can be filled in from the fields in the generated App Token.\n",
    "    # Users are expected to perform their credential retrieval securely.\n",
    "    return {\n",
    "        \"domain\":\"<domain>\",\n",
    "        \"userAudience\":\"<userAudience>\",\n",
    "        \"url\":\"<url>\",\n",
    "        \"environment\":\"<environment>\",\n",
    "        \"clientId\":\"<clientId>\",\n",
    "        \"clientSecret\":\"<clientSecret>\"\n",
    "    }"
   ]
  },
  {
   "cell_type": "markdown",
   "id": "6d3dbe30",
   "metadata": {},
   "source": [
    "Once the credentials are generated and stored securely in your environment. Please follow the next steps to create `SerenityClient` to facilitate the authentication process"
   ]
  },
  {
   "cell_type": "code",
   "execution_count": null,
   "id": "2bcc805a",
   "metadata": {},
   "outputs": [],
   "source": [
    "from serenity_sdk.client import SerenityClient\n",
    "from serenity_sdk.client.config import ConnectionConfig, Environment\n",
    "\n",
    "secure_config = load_secure_config()\n",
    "config = ConnectionConfig(\n",
    "    domain=secure_config[\"domain\"],\n",
    "    user_audience=secure_config['userAudience'],\n",
    "    url=secure_config[\"url\"],\n",
    "    env=Environment(secure_config['environment']),\n",
    "    client_id=secure_config[\"clientId\"],\n",
    "    client_secret=secure_config[\"clientSecret\"]\n",
    ")\n",
    "\n",
    "client = SerenityClient(config)"
   ]
  },
  {
   "cell_type": "markdown",
   "id": "867bbaa5",
   "metadata": {},
   "source": [
    "Next we'll use `SerenityClient` with `SerenityApiProvider` which is provides convenience methods to call Serenity's REST APIs"
   ]
  },
  {
   "cell_type": "code",
   "execution_count": null,
   "id": "929ed468",
   "metadata": {},
   "outputs": [],
   "source": [
    "import datetime\n",
    "import pandas as pd\n",
    "import seaborn as sns\n",
    "from serenity_sdk.api.provider import SerenityApiProvider\n",
    "\n",
    "api = SerenityApiProvider(client)"
   ]
  },
  {
   "cell_type": "markdown",
   "id": "622acb83-32b0-46ce-aa93-c129d3f46b64",
   "metadata": {},
   "source": [
    "The following code demonstrates how we can use Serenity's SDK API library load factor model outputs"
   ]
  },
  {
   "cell_type": "code",
   "execution_count": null,
   "id": "4b75808b-417c-47f2-b10f-094c6303171c",
   "metadata": {},
   "outputs": [],
   "source": [
    "model_short_name = 'risk.factor.ff.beta.mt.v1_7'\n",
    "model_meta = api.model().load_model_metadata(datetime.date.today())\n",
    "model_config_id = model_meta.get_model_configuration_id(model_short_name)"
   ]
  },
  {
   "cell_type": "markdown",
   "id": "b99652cf",
   "metadata": {},
   "source": [
    "Please note that the latest factor model output are available as **T-1**. The outputs are generated daily and available after **2AM UTC**."
   ]
  },
  {
   "cell_type": "code",
   "execution_count": null,
   "id": "a086ecf8",
   "metadata": {},
   "outputs": [],
   "source": [
    "from serenity_sdk.types.common import CalculationContext\n",
    "\n",
    "# The as_of_date is the date for the model output which is generally available as T-1.\n",
    "as_of_date = datetime.date.today() - datetime.timedelta(days=1)\n",
    "\n",
    "ctx = CalculationContext(as_of_date=as_of_date, model_config_id=model_config_id)"
   ]
  },
  {
   "cell_type": "markdown",
   "id": "5224d5f9-2294-4220-ba55-cc6661ad76a6",
   "metadata": {},
   "source": [
    "Get the factor returns"
   ]
  },
  {
   "cell_type": "code",
   "execution_count": null,
   "id": "65d2988c-e324-4e86-b4fa-a0d0468eca7d",
   "metadata": {},
   "outputs": [],
   "source": [
    "api.risk().get_factor_returns(ctx)"
   ]
  },
  {
   "cell_type": "markdown",
   "id": "5e565574-bc69-481b-bf77-4a4bb475fa10",
   "metadata": {},
   "source": [
    "Get the factor correlations"
   ]
  },
  {
   "cell_type": "code",
   "execution_count": null,
   "id": "15fd2387-0045-48a9-92a2-33db10795523",
   "metadata": {},
   "outputs": [],
   "source": [
    "factor_corr_df = api.risk().get_factor_correlation_matrix(ctx)\n",
    "display(factor_corr_df)"
   ]
  },
  {
   "cell_type": "markdown",
   "id": "6b7a246c-9b1d-4e9a-8127-c3b8f23cc37d",
   "metadata": {},
   "source": [
    "Get the factor covariances"
   ]
  },
  {
   "cell_type": "code",
   "execution_count": null,
   "id": "bf90c3f4-823e-4830-a26b-8aae5ded4672",
   "metadata": {},
   "outputs": [],
   "source": [
    "factor_cov_df = api.risk().get_factor_covariance_matrix(ctx)\n",
    "display(factor_cov_df)"
   ]
  },
  {
   "cell_type": "markdown",
   "id": "49c0a3cc",
   "metadata": {},
   "source": [
    "Let's use asset master to provide human readable names when displaying the assets for the Asset Factor Exposure"
   ]
  },
  {
   "cell_type": "code",
   "execution_count": null,
   "id": "38d9ad20",
   "metadata": {},
   "outputs": [],
   "source": [
    "asset_master = api.refdata().load_asset_master()"
   ]
  },
  {
   "cell_type": "markdown",
   "id": "115895c0-da1c-4cb4-8cde-91117c14e025",
   "metadata": {},
   "source": [
    "Finally, get the factor loadings (exposures) for the entire asset universe"
   ]
  },
  {
   "cell_type": "code",
   "execution_count": null,
   "id": "530b9f6d-6161-4edd-b6e5-a908c489eaae",
   "metadata": {},
   "outputs": [],
   "source": [
    "exposures_df = api.risk().get_asset_factor_exposures(ctx, asset_master, None)\n",
    "display(exposures_df)"
   ]
  },
  {
   "cell_type": "markdown",
   "id": "7c9435b1",
   "metadata": {},
   "source": [
    "# END"
   ]
  }
 ],
 "metadata": {
  "kernelspec": {
   "display_name": ".venv",
   "language": "python",
   "name": "python3"
  },
  "language_info": {
   "codemirror_mode": {
    "name": "ipython",
    "version": 3
   },
   "file_extension": ".py",
   "mimetype": "text/x-python",
   "name": "python",
   "nbconvert_exporter": "python",
   "pygments_lexer": "ipython3",
   "version": "3.8.10"
  },
  "vscode": {
   "interpreter": {
    "hash": "da01d933f08a19496ff2bc47bee57d1aad5a98d2dadc2d94c49482637001ed3b"
   }
  }
 },
 "nbformat": 4,
 "nbformat_minor": 5
}
